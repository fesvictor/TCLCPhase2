{
 "cells": [
  {
   "cell_type": "code",
   "execution_count": null,
   "metadata": {
    "collapsed": true
   },
   "outputs": [],
   "source": [
    "import json\n",
    "import os\n",
    "import numpy as np\n",
    "from pprint import pprint\n",
    "from copy import deepcopy\n",
    "\n",
    "import GraphPlotter\n",
    "import Helper\n",
    "from ReadParameterFile import get_parameter_dict\n",
    "from NameMapper import map_name_from_file, map_name_from_json"
   ]
  },
  {
   "cell_type": "code",
   "execution_count": null,
   "metadata": {},
   "outputs": [],
   "source": [
    "# Import the parameter file\n",
    "params = get_parameter_dict('semiannually-params-json')\n",
    "params"
   ]
  },
  {
   "cell_type": "code",
   "execution_count": null,
   "metadata": {
    "collapsed": true
   },
   "outputs": [],
   "source": [
    "\"\"\"\n",
    "Prpares the input data to be plotted\n",
    "\"\"\"\n",
    "def prep_data(params, filename, language=\"en\"):\n",
    "    data = json.load(open(os.path.join(params[\"input_dir\"], filename)))\n",
    "    data = data[\"data\"]\n",
    "    \n",
    "    # Preparation for party merging (child party to parent party)\n",
    "    with open(\"../keywords/target/party.json\") as fin:\n",
    "        parties = json.load(fin)\n",
    "        \n",
    "    party_name_dict = map_name_from_json(\"../keywords/target/party.json\", language=language)\n",
    "    \n",
    "    for k in data:\n",
    "        raw_data = data[k]\n",
    "    \n",
    "        # Get length\n",
    "        length = len(data[k][list(data[k].keys())[0]])\n",
    "\n",
    "        # Cleanup data and produce overall values\n",
    "        overall = np.zeros(length, dtype=np.int32)\n",
    "        for r_k in raw_data:\n",
    "            raw_data[r_k] = np.array(raw_data[r_k])\n",
    "            overall += raw_data[r_k]\n",
    "        data[k] = raw_data\n",
    "        data[k][\"overall\"] = overall\n",
    "        \n",
    "        \"\"\"\n",
    "        for _k in data[k]:\n",
    "            data[k][_k] = Helper.summarize_values_to_week(data[k][_k])\n",
    "        \"\"\"\n",
    "    \n",
    "    # Party merging\n",
    "    for k in data:\n",
    "        if k in party_name_dict and party_name_dict[k] in parties and parties[party_name_dict[k]][\"parent_party\"] is not None and party_name_dict[parties[party_name_dict[k]][\"parent_party\"]] != party_name_dict[k]:\n",
    "            for r_k in data[k]:\n",
    "                data[party_name_dict[parties[party_name_dict[k]][\"parent_party\"]]][r_k] += data[k][r_k]\n",
    "    \n",
    "    # Resize days to week\n",
    "    for k in data:\n",
    "        for _k in data[k]:\n",
    "            data[k][_k] = Helper.summarize_values_to_week(data[k][_k])\n",
    "        \n",
    "    return data"
   ]
  },
  {
   "cell_type": "code",
   "execution_count": null,
   "metadata": {
    "collapsed": true,
    "scrolled": true
   },
   "outputs": [],
   "source": []
  },
  {
   "cell_type": "code",
   "execution_count": null,
   "metadata": {
    "collapsed": true
   },
   "outputs": [],
   "source": [
    "\"\"\"\n",
    "Filter out the people/party that we need\n",
    "\"\"\"\n",
    "def filter_map(data, filter_list, map_file=\"name_mapping.csv\", language=\"en\"):\n",
    "    # Get the map of leaders/parties\n",
    "    #name_dict = map_name_from_file(map_file)\n",
    "    name_dict = map_name_from_json(\"../keywords/target/leader.json\", language=language)\n",
    "    name_dict = map_name_from_json(\"../keywords/target/party.json\", language=language, name_dict=name_dict)\n",
    "\n",
    "    # Filter out people/party of interest\n",
    "    ret_map = {}\n",
    "    for name in filter_list:\n",
    "        if name_dict[name] in data:\n",
    "            ret_map[name_dict[name]] = data[name_dict[name]]\n",
    "    \n",
    "    return ret_map"
   ]
  },
  {
   "cell_type": "code",
   "execution_count": null,
   "metadata": {
    "collapsed": true
   },
   "outputs": [],
   "source": [
    "\"\"\"\n",
    "Compilation of all parties that we want to plot\n",
    "\"\"\"\n",
    "def plot_helper(data, params, lang, name_map_file=\"name_mapping.csv\"):\n",
    "    date = params[\"start_year\"] + \"-\" + params[\"start_month\"] + \" -- \" + params[\"end_year\"] + \"-\" + params[\"end_month\"]\n",
    "    \n",
    "    short_lang = \"en\" if lang == \"english\" else \"cn\"\n",
    "    \n",
    "    cat_type = 'leader_different'\n",
    "    filtered_dict = filter_map(data, params[cat_type], map_file=name_map_file, language=short_lang)\n",
    "    GraphPlotter.plot_semiannual_graph(\"Different coalition leader \"+ date, filtered_dict, \"leader_different\", save=True, show=False, suffix=lang, params=params)\n",
    "    GraphPlotter.plot_semiannual_graph(\"Different coalition leader \"+ date, filtered_dict, \"leader_different\", plot_kind=\"positive\", save=True, show=False, suffix=lang, params=params)\n",
    "    GraphPlotter.plot_semiannual_graph(\"Different coalition leader \"+ date, filtered_dict, \"leader_different\", plot_kind=\"negative\", save=True, show=False, suffix=lang, params=params)\n",
    "\n",
    "    cat_type = \"party_different\"\n",
    "    filtered_dict = filter_map(data, params[cat_type], map_file=name_map_file, language=short_lang)\n",
    "    GraphPlotter.plot_semiannual_graph(\"Different coalition party \"+ date, filtered_dict, \"party_different\", save=True, show=False, suffix=lang, params=params)\n",
    "    GraphPlotter.plot_semiannual_graph(\"Different coalition party \"+ date, filtered_dict, \"party_different\", plot_kind=\"positive\", save=True, show=False, suffix=lang, params=params)\n",
    "    GraphPlotter.plot_semiannual_graph(\"Different coalition party \"+ date, filtered_dict, \"party_different\", plot_kind=\"negative\", save=True, show=False, suffix=lang, params=params)\n",
    "    \n",
    "    cat_type = \"party_same_bn\"\n",
    "    filtered_dict = filter_map(data, params[cat_type], map_file=name_map_file, language=short_lang)\n",
    "    GraphPlotter.plot_semiannual_graph(\"BN party coalition \"+ date, filtered_dict, cat_type, save=True, show=False, suffix=lang, params=params)\n",
    "    GraphPlotter.plot_semiannual_graph(\"BN party coalition \"+ date, filtered_dict, cat_type, plot_kind=\"positive\", save=True, show=False, suffix=lang, params=params)\n",
    "    GraphPlotter.plot_semiannual_graph(\"BN party coalition \"+ date, filtered_dict, cat_type, plot_kind=\"negative\", save=True, show=False, suffix=lang, params=params)\n",
    "    \n",
    "    cat_type = \"party_same_pakatan\"\n",
    "    filtered_dict = filter_map(data, params[cat_type], map_file=name_map_file, language=short_lang)\n",
    "    GraphPlotter.plot_semiannual_graph(\"Pakatan party coalition \"+ date, filtered_dict, cat_type, save=True, show=False, suffix=lang, params=params)\n",
    "    GraphPlotter.plot_semiannual_graph(\"Pakatan party coalition \"+ date, filtered_dict, cat_type, plot_kind=\"positive\", save=True, show=False, suffix=lang, params=params)\n",
    "    GraphPlotter.plot_semiannual_graph(\"Pakatan party coalition \"+ date, filtered_dict, cat_type, plot_kind=\"negative\", save=True, show=False, suffix=lang, params=params)\n",
    "    \n",
    "    cat_type = \"leader_same_bn\"\n",
    "    filtered_dict = filter_map(data, params[cat_type], map_file=name_map_file, language=short_lang)\n",
    "    GraphPlotter.plot_semiannual_graph(\"BN leaders coalition \"+ date, filtered_dict, cat_type, save=True, show=False, suffix=lang, params=params)\n",
    "    GraphPlotter.plot_semiannual_graph(\"BN leaders coalition \"+ date, filtered_dict, cat_type, plot_kind=\"positive\", save=True, show=False, suffix=lang, params=params)\n",
    "    GraphPlotter.plot_semiannual_graph(\"BN leaders coalition \"+ date, filtered_dict, cat_type, plot_kind=\"negative\", save=True, show=False, suffix=lang, params=params)\n",
    "\n",
    "    cat_type = \"leader_same_pakatan\"\n",
    "    filtered_dict = filter_map(data, params[cat_type], map_file=name_map_file, language=short_lang)\n",
    "    GraphPlotter.plot_semiannual_graph(\"Pakatan leaders coalition \"+ date, filtered_dict, cat_type, save=True, show=False, suffix=lang, params=params)\n",
    "    GraphPlotter.plot_semiannual_graph(\"Pakatan leaders coalition \"+ date, filtered_dict, cat_type, plot_kind=\"positive\", save=True, show=False, suffix=lang, params=params)\n",
    "    GraphPlotter.plot_semiannual_graph(\"Pakatan leaders coalition \"+ date, filtered_dict, cat_type, plot_kind=\"negative\", save=True, show=False, suffix=lang, params=params)\n",
    "    \n",
    "    cat_type = \"leader_malay\"\n",
    "    filtered_dict = filter_map(data, params[cat_type], map_file=name_map_file, language=short_lang)\n",
    "    GraphPlotter.plot_semiannual_graph(\"Malay leaders \"+ date, filtered_dict, cat_type, save=True, show=False, suffix=lang, params=params)\n",
    "    GraphPlotter.plot_semiannual_graph(\"Malay leaders \"+ date, filtered_dict, cat_type, plot_kind=\"positive\", save=True, show=False, suffix=lang, params=params)\n",
    "    GraphPlotter.plot_semiannual_graph(\"Malay leaders \"+ date, filtered_dict, cat_type, plot_kind=\"negative\", save=True, show=False, suffix=lang, params=params)\n",
    "    \n",
    "    cat_type = \"leader_chinese\"\n",
    "    filtered_dict = filter_map(data, params[cat_type], map_file=name_map_file, language=short_lang)\n",
    "    GraphPlotter.plot_semiannual_graph(\"Chinese leaders \"+ date, filtered_dict, cat_type, save=True, show=False, suffix=lang, params=params)\n",
    "    GraphPlotter.plot_semiannual_graph(\"Chinese leaders \"+ date, filtered_dict, cat_type, plot_kind=\"positive\", save=True, show=False, suffix=lang, params=params)\n",
    "    GraphPlotter.plot_semiannual_graph(\"Chinese leaders \"+ date, filtered_dict, cat_type, plot_kind=\"negative\", save=True, show=False, suffix=lang, params=params)\n",
    "    \n",
    "    cat_type = \"mca_v_dap\"\n",
    "    filtered_dict = filter_map(data, params[cat_type], map_file=name_map_file, language=short_lang)\n",
    "    GraphPlotter.plot_semiannual_graph(\"MCA vs DAP \"+ date, filtered_dict, cat_type, save=True, show=False, suffix=lang, params=params)\n",
    "    GraphPlotter.plot_semiannual_graph(\"MCA vs DAP \"+ date, filtered_dict, cat_type, plot_kind=\"positive\", save=True, show=False, suffix=lang, params=params)\n",
    "    GraphPlotter.plot_semiannual_graph(\"MCA vs DAP \"+ date, filtered_dict, cat_type, plot_kind=\"negative\", save=True, show=False, suffix=lang, params=params)\n",
    "    \n",
    "    cat_type = \"bn_v_ph_v_pas\"\n",
    "    filtered_dict = filter_map(data, params[cat_type], map_file=name_map_file, language=short_lang)\n",
    "    GraphPlotter.plot_semiannual_graph(\"BN vs PH vs PAS \"+ date, filtered_dict, cat_type, save=True, show=False, suffix=lang, params=params)\n",
    "    GraphPlotter.plot_semiannual_graph(\"BN vs PH vs PAS \"+ date, filtered_dict, cat_type, plot_kind=\"positive\", save=True, show=False, suffix=lang, params=params)\n",
    "    GraphPlotter.plot_semiannual_graph(\"BN vs PH vs PAS \"+ date, filtered_dict, cat_type, plot_kind=\"negative\", save=True, show=False, suffix=lang, params=params)"
   ]
  },
  {
   "cell_type": "code",
   "execution_count": null,
   "metadata": {
    "collapsed": true
   },
   "outputs": [],
   "source": []
  },
  {
   "cell_type": "code",
   "execution_count": null,
   "metadata": {},
   "outputs": [],
   "source": [
    "# Prepare the data\n",
    "data = prep_data(params, \"english_extracted.json\")\n",
    "\n",
    "# Plot the graph\n",
    "plot_helper(data, params, \"english\")"
   ]
  },
  {
   "cell_type": "code",
   "execution_count": null,
   "metadata": {},
   "outputs": [],
   "source": [
    "data = prep_data(params, \"chinese_extracted.json\")\n",
    "plot_helper(data, params, \"chinese\")"
   ]
  },
  {
   "cell_type": "code",
   "execution_count": null,
   "metadata": {
    "collapsed": true
   },
   "outputs": [],
   "source": []
  },
  {
   "cell_type": "code",
   "execution_count": null,
   "metadata": {
    "collapsed": true
   },
   "outputs": [],
   "source": []
  }
 ],
 "metadata": {
  "kernelspec": {
   "display_name": "Python 3",
   "language": "python",
   "name": "python3"
  },
  "language_info": {
   "codemirror_mode": {
    "name": "ipython",
    "version": 3
   },
   "file_extension": ".py",
   "mimetype": "text/x-python",
   "name": "python",
   "nbconvert_exporter": "python",
   "pygments_lexer": "ipython3",
   "version": "3.6.5"
  }
 },
 "nbformat": 4,
 "nbformat_minor": 2
}
