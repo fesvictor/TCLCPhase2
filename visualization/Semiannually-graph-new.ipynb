{
 "cells": [
  {
   "cell_type": "code",
   "execution_count": 2,
   "metadata": {
    "collapsed": true
   },
   "outputs": [],
   "source": [
    "import json\n",
    "import os\n",
    "import numpy as np\n",
    "from pprint import pprint\n",
    "from copy import deepcopy\n",
    "\n",
    "import GraphPlotter\n",
    "import Helper\n",
    "from ReadParameterFile import get_parameter_dict\n",
    "from NameMapper import map_name_from_file, map_name_from_json"
   ]
  },
  {
   "cell_type": "code",
   "execution_count": 3,
   "metadata": {},
   "outputs": [
    {
     "data": {
      "text/plain": [
       "{'end_month': '12',\n",
       " 'end_year': '2017',\n",
       " 'graph_types': ['positive', 'negative', 'overall'],\n",
       " 'input_dir': '../analysis/results',\n",
       " 'languages': ['english', 'chinese', 'mix'],\n",
       " 'leader_chinese': ['lim guan eng',\n",
       "  'liow tiong lai',\n",
       "  'lim kit siang',\n",
       "  'wee ka siong'],\n",
       " 'leader_different': ['lim kit siang',\n",
       "  'lim guan eng',\n",
       "  'anwar',\n",
       "  'mahathir',\n",
       "  'abdul hadi awang',\n",
       "  'liow tiong lai',\n",
       "  'subramaniam',\n",
       "  'najib'],\n",
       " 'leader_malay': ['najib', 'mahathir', 'anwar', 'abdul hadi awang'],\n",
       " 'leader_same_bn': ['liow tiong lai',\n",
       "  'subramaniam',\n",
       "  'najib',\n",
       "  'mah siew keong'],\n",
       " 'leader_same_pakatan': ['lim kit siang',\n",
       "  'lim guan eng',\n",
       "  'anwar',\n",
       "  'mahathir',\n",
       "  'abdul hadi awang'],\n",
       " 'mca_v_dap': ['mca', 'dap'],\n",
       " 'output_dir': './results-json',\n",
       " 'party_different': ['dap', 'pkr', 'ppbm', 'pas', 'mca', 'umno', 'mic'],\n",
       " 'party_same_bn': ['mca', 'mic', 'umno', 'pbb', 'gerakan'],\n",
       " 'party_same_pakatan': ['dap', 'pkr', 'pas', 'ppbm', 'amanah'],\n",
       " 'start_month': '7',\n",
       " 'start_year': '2017'}"
      ]
     },
     "execution_count": 3,
     "metadata": {},
     "output_type": "execute_result"
    }
   ],
   "source": [
    "params = get_parameter_dict('semiannually-params-json')\n",
    "params"
   ]
  },
  {
   "cell_type": "code",
   "execution_count": 41,
   "metadata": {},
   "outputs": [
    {
     "ename": "SyntaxError",
     "evalue": "invalid syntax (<ipython-input-41-3958962b09fe>, line 30)",
     "output_type": "error",
     "traceback": [
      "\u001b[0;36m  File \u001b[0;32m\"<ipython-input-41-3958962b09fe>\"\u001b[0;36m, line \u001b[0;32m30\u001b[0m\n\u001b[0;31m    if parties[party_name_dict[k]] != party_name_dict[k]\u001b[0m\n\u001b[0m                                                         ^\u001b[0m\n\u001b[0;31mSyntaxError\u001b[0m\u001b[0;31m:\u001b[0m invalid syntax\n"
     ]
    }
   ],
   "source": [
    "def prep_data(params, filename, language=\"en\"):\n",
    "    data = json.load(open(os.path.join(params[\"input_dir\"], filename)))\n",
    "    data = data[\"data\"]\n",
    "    \n",
    "    with open(\"../keywords/target/party.json\") as fin:\n",
    "        parties = json.load(fin)\n",
    "        \n",
    "    party_name_dict = map_name_from_json(\"../keywords/target/party.json\", language=language)\n",
    "    \n",
    "    for k in data:\n",
    "        raw_data = data[k]\n",
    "    \n",
    "        # Get length\n",
    "        length = len(data[k][list(data[k].keys())[0]])\n",
    "\n",
    "        overall = np.zeros(length, dtype=np.int32)\n",
    "        for r_k in raw_data:\n",
    "            raw_data[r_k] = np.array(raw_data[r_k])\n",
    "            overall += raw_data[r_k]\n",
    "        data[k] = raw_data\n",
    "        data[k][\"overall\"] = overall\n",
    "        print(k, party_name_dict)\n",
    "        \n",
    "        \"\"\"\n",
    "        for _k in data[k]:\n",
    "            data[k][_k] = Helper.summarize_values_to_week(data[k][_k])\n",
    "        \"\"\"\n",
    "        \n",
    "    for k in data:\n",
    "        if parties[party_name_dict[k]] != party_name_dict[k] and party_name_dict[k] in parties and parties[party_name_dict[k]][\"parent_party\"] is not None:\n",
    "            \n",
    "\n",
    "    for k in data:\n",
    "        for _k in data[k]:\n",
    "            data[k][_k] = Helper.summarize_values_to_week(data[k][_k])\n",
    "        \n",
    "    return data"
   ]
  },
  {
   "cell_type": "code",
   "execution_count": 38,
   "metadata": {},
   "outputs": [
    {
     "name": "stdout",
     "output_type": "stream",
     "text": [
      "dap {'amanah': 'amanah', 'bn': 'bn', 'barisan': 'bn', 'barisan nasional': 'bn', 'dap': 'dap', 'gerakan': 'gerakan', 'ldp': 'ldp', 'mca': 'mca', 'mic': 'mic', 'pakatan harapan': 'pakatan harapan', 'ph': 'pakatan harapan', 'pakatan': 'pakatan', 'pakatan rakyat': 'pakatan', 'ppbm': 'ppbm', 'parti pribumi bersatu malaysia': 'ppbm', 'pas': 'pas', 'pbb': 'pbb', 'pbrs': 'pbrs', 'pbs': 'pbs', 'pkr': 'pkr', 'keadilan': 'pkr', 'myppp': 'myppp', 'prs': 'prs', 'spdp': 'spdp', 'supp': 'supp', 'umno': 'umno'}\n",
      "{'positive': array([ 1,  1,  2, 10,  1,  0,  1,  3,  0,  5,  4,  1,  1,  3,  5,  3,  1,\n",
      "        5,  1,  3,  2,  1,  4,  1,  3,  2,  0,  4,  1,  3,  1,  5,  0,  0,\n",
      "        0,  2,  1,  2,  0,  0,  1,  2,  1,  4,  7,  7,  4,  3,  0,  0,  1,\n",
      "        1,  0,  2,  0,  0,  5,  0,  1,  3,  5,  4,  0,  0,  1,  3,  3,  0,\n",
      "        3,  1,  0,  0,  1,  0,  5,  0,  0,  0,  0,  1,  0,  0,  1,  1,  0,\n",
      "        4,  1,  0,  1,  2,  1,  0,  5,  0,  0,  1,  1,  0,  1,  0,  0,  1,\n",
      "        0,  0,  0,  0,  2,  2,  0,  0,  2,  0,  0,  1,  0,  0,  1,  0,  0,\n",
      "        0,  2,  4,  0,  0,  0,  0,  0,  3,  1,  5,  1,  2,  0,  0,  6,  1,\n",
      "        1,  0,  0,  0,  0,  0,  0,  0,  0,  1,  0,  0,  0,  1,  0,  1,  1,\n",
      "        0,  0,  2,  0,  1,  0,  4,  2,  0,  0,  2,  1,  1,  1,  0,  0,  1,\n",
      "        0,  2,  0,  0,  0,  0,  0,  0,  0,  0,  1,  2,  0,  1]), 'negative': array([ 2,  3,  4, 16,  1,  0,  2,  7,  5,  8,  2,  1,  1,  5,  4,  2,  1,\n",
      "        8,  1,  0,  3,  3,  1,  5,  2,  3,  1,  2,  1,  1,  1,  1,  0,  0,\n",
      "        0,  4,  1,  1,  0,  2,  4,  0,  1,  1,  2, 14,  4,  4,  2,  1,  1,\n",
      "        0,  0,  2,  0,  2,  0,  0,  1,  6,  1,  6,  0,  1,  1,  1,  1,  0,\n",
      "        2,  1,  0,  0,  1,  1,  2,  0,  0,  0,  0,  2,  1,  1,  0,  0,  0,\n",
      "        2,  2,  3,  0,  0,  2,  2,  4,  1,  1,  2,  0,  1,  1,  1,  1,  0,\n",
      "        0,  0,  2,  0,  3,  2,  0,  0,  0,  0,  0,  0,  0,  0,  0,  0,  0,\n",
      "        0,  2,  5,  1,  0,  0,  0,  0,  6,  0,  6,  2,  1,  0,  0,  3,  0,\n",
      "        0,  0,  0,  0,  0,  0,  0,  0,  0,  0,  0,  0,  0,  0,  0,  3,  0,\n",
      "        0,  0,  1,  1,  2,  3,  4,  1,  0,  1,  3,  5,  1,  1,  2,  1,  1,\n",
      "        2,  0,  2,  0,  0,  0,  0,  0,  0,  1,  1,  0,  1,  0]), 'neutral': array([ 4, 14,  2,  7,  8,  0, 14, 36, 30, 36, 32,  4,  8, 32, 17,  7, 19,\n",
      "       14,  6,  9,  6,  6,  6, 16, 24,  4,  8, 12,  5, 28,  9, 12,  1,  7,\n",
      "        1,  4,  2,  3,  2,  4, 12,  2,  5,  5, 26, 17,  1,  7,  3,  0,  0,\n",
      "        5,  7, 12,  4,  0,  4,  0,  3, 23, 19, 11,  4,  2,  4,  3, 13,  9,\n",
      "       22, 11,  3,  1,  4,  0,  5,  2,  7, 11,  5, 13, 15,  7,  4,  3,  1,\n",
      "       20, 16,  5,  4,  2, 25, 16, 18,  9,  5,  7,  2, 10, 11,  5,  8, 10,\n",
      "        0,  0,  5,  2, 13,  6,  2,  4,  9,  3,  6,  3,  0,  3,  9,  2,  0,\n",
      "        0, 14,  8, 11,  4,  7,  2,  0, 12, 12, 15,  2, 13,  1,  0, 24, 10,\n",
      "        2,  1,  0,  2,  0,  0,  4,  1,  1,  5,  0,  3,  0, 13,  0, 25,  2,\n",
      "        3,  1,  2,  2, 15,  5, 11, 18,  7,  1, 13, 25,  3,  2,  0, 11,  3,\n",
      "        5, 13,  7,  5,  1,  0,  3,  0,  0,  3,  0,  7,  2,  0]), 'overall': array([ 7, 18,  8, 33, 10,  0, 17, 46, 35, 49, 38,  6, 10, 40, 26, 12, 21,\n",
      "       27,  8, 12, 11, 10, 11, 22, 29,  9,  9, 18,  7, 32, 11, 18,  1,  7,\n",
      "        1, 10,  4,  6,  2,  6, 17,  4,  7, 10, 35, 38,  9, 14,  5,  1,  2,\n",
      "        6,  7, 16,  4,  2,  9,  0,  5, 32, 25, 21,  4,  3,  6,  7, 17,  9,\n",
      "       27, 13,  3,  1,  6,  1, 12,  2,  7, 11,  5, 16, 16,  8,  5,  4,  1,\n",
      "       26, 19,  8,  5,  4, 28, 18, 27, 10,  6, 10,  3, 11, 13,  6,  9, 11,\n",
      "        0,  0,  7,  2, 18, 10,  2,  4, 11,  3,  6,  4,  0,  3, 10,  2,  0,\n",
      "        0, 18, 17, 12,  4,  7,  2,  0, 21, 13, 26,  5, 16,  1,  0, 33, 11,\n",
      "        3,  1,  0,  2,  0,  0,  4,  1,  1,  6,  0,  3,  0, 14,  0, 29,  3,\n",
      "        3,  1,  5,  3, 18,  8, 19, 21,  7,  2, 18, 31,  5,  4,  2, 12,  5,\n",
      "        7, 15,  9,  5,  1,  0,  3,  0,  0,  4,  2,  9,  3,  1],\n",
      "      dtype=int32)}\n"
     ]
    },
    {
     "ename": "KeyError",
     "evalue": "'overall'",
     "output_type": "error",
     "traceback": [
      "\u001b[0;31m---------------------------------------------------------------------------\u001b[0m",
      "\u001b[0;31mKeyError\u001b[0m                                  Traceback (most recent call last)",
      "\u001b[0;32m<ipython-input-38-4dae610e9270>\u001b[0m in \u001b[0;36m<module>\u001b[0;34m()\u001b[0m\n\u001b[0;32m----> 1\u001b[0;31m \u001b[0mprep_data\u001b[0m\u001b[0;34m(\u001b[0m\u001b[0mparams\u001b[0m\u001b[0;34m,\u001b[0m \u001b[0;34m\"english_extracted.json\"\u001b[0m\u001b[0;34m)\u001b[0m\u001b[0;34m\u001b[0m\u001b[0m\n\u001b[0m",
      "\u001b[0;32m<ipython-input-37-b963819a2c9f>\u001b[0m in \u001b[0;36mprep_data\u001b[0;34m(params, filename, language)\u001b[0m\n\u001b[1;32m     27\u001b[0m \u001b[0;34m\u001b[0m\u001b[0m\n\u001b[1;32m     28\u001b[0m             \u001b[0;32mfor\u001b[0m \u001b[0mr_k\u001b[0m \u001b[0;32min\u001b[0m \u001b[0mraw_data\u001b[0m\u001b[0;34m:\u001b[0m\u001b[0;34m\u001b[0m\u001b[0m\n\u001b[0;32m---> 29\u001b[0;31m                 \u001b[0mdata\u001b[0m\u001b[0;34m[\u001b[0m\u001b[0mparty_name_dict\u001b[0m\u001b[0;34m[\u001b[0m\u001b[0mparties\u001b[0m\u001b[0;34m[\u001b[0m\u001b[0mk\u001b[0m\u001b[0;34m]\u001b[0m\u001b[0;34m[\u001b[0m\u001b[0;34m\"parent_party\"\u001b[0m\u001b[0;34m]\u001b[0m\u001b[0;34m]\u001b[0m\u001b[0;34m]\u001b[0m\u001b[0;34m[\u001b[0m\u001b[0mr_k\u001b[0m\u001b[0;34m]\u001b[0m \u001b[0;34m+=\u001b[0m \u001b[0mdata\u001b[0m\u001b[0;34m[\u001b[0m\u001b[0mk\u001b[0m\u001b[0;34m]\u001b[0m\u001b[0;34m[\u001b[0m\u001b[0mr_k\u001b[0m\u001b[0;34m]\u001b[0m\u001b[0;34m\u001b[0m\u001b[0m\n\u001b[0m\u001b[1;32m     30\u001b[0m \u001b[0;34m\u001b[0m\u001b[0m\n\u001b[1;32m     31\u001b[0m         \"\"\"\n",
      "\u001b[0;31mKeyError\u001b[0m: 'overall'"
     ]
    }
   ],
   "source": [
    "prep_data(params, \"english_extracted.json\")"
   ]
  },
  {
   "cell_type": "code",
   "execution_count": 5,
   "metadata": {
    "collapsed": true
   },
   "outputs": [],
   "source": [
    "def filter_map(data, filter_list, map_file=\"name_mapping.csv\", language=\"en\"):\n",
    "    #name_dict = map_name_from_file(map_file)\n",
    "    name_dict = map_name_from_json(\"../keywords/target/leader.json\", language=language)\n",
    "    name_dict = map_name_from_json(\"../keywords/target/party.json\", language=language, name_dict=name_dict)\n",
    "\n",
    "    \n",
    "    ret_map = {}\n",
    "    for name in filter_list:\n",
    "        if name_dict[name] in data:\n",
    "            ret_map[name_dict[name]] = data[name_dict[name]]\n",
    "    \n",
    "    return ret_map"
   ]
  },
  {
   "cell_type": "code",
   "execution_count": 6,
   "metadata": {
    "collapsed": true
   },
   "outputs": [],
   "source": [
    "def plot_helper(data, params, lang, name_map_file=\"name_mapping.csv\"):\n",
    "    date = params[\"start_year\"] + \"-\" + params[\"start_month\"] + \" -- \" + params[\"end_year\"] + \"-\" + params[\"end_month\"]\n",
    "    \n",
    "    short_lang = \"en\" if lang == \"english\" else \"cn\"\n",
    "    \n",
    "    cat_type = 'leader_different'\n",
    "    filtered_dict = filter_map(data, params[cat_type], map_file=name_map_file, language=short_lang)\n",
    "    GraphPlotter.plot_semiannual_graph(\"Different coalition leader \"+ date, filtered_dict, \"leader_different\", save=True, show=False, suffix=lang, params=params)\n",
    "    GraphPlotter.plot_semiannual_graph(\"Different coalition leader \"+ date, filtered_dict, \"leader_different\", plot_kind=\"positive\", save=True, show=False, suffix=lang, params=params)\n",
    "    GraphPlotter.plot_semiannual_graph(\"Different coalition leader \"+ date, filtered_dict, \"leader_different\", plot_kind=\"negative\", save=True, show=False, suffix=lang, params=params)\n",
    "\n",
    "    cat_type = \"party_different\"\n",
    "    filtered_dict = filter_map(data, params[cat_type], map_file=name_map_file, language=short_lang)\n",
    "    GraphPlotter.plot_semiannual_graph(\"Different coalition party\", filtered_dict, \"party_different\", save=True, show=False, suffix=lang, params=params)\n",
    "    GraphPlotter.plot_semiannual_graph(\"Different coalition party\", filtered_dict, \"party_different\", plot_kind=\"positive\", save=True, show=False, suffix=lang, params=params)\n",
    "    GraphPlotter.plot_semiannual_graph(\"Different coalition party\", filtered_dict, \"party_different\", plot_kind=\"negative\", save=True, show=False, suffix=lang, params=params)\n",
    "    \n",
    "    cat_type = \"party_same_bn\"\n",
    "    filtered_dict = filter_map(data, params[cat_type], map_file=name_map_file, language=short_lang)\n",
    "    GraphPlotter.plot_semiannual_graph(\"BN party coalition \"+ date, filtered_dict, cat_type, save=True, show=False, suffix=lang, params=params)\n",
    "    GraphPlotter.plot_semiannual_graph(\"BN party coalition \"+ date, filtered_dict, cat_type, plot_kind=\"positive\", save=True, show=False, suffix=lang, params=params)\n",
    "    GraphPlotter.plot_semiannual_graph(\"BN party coalition \"+ date, filtered_dict, cat_type, plot_kind=\"negative\", save=True, show=False, suffix=lang, params=params)\n",
    "    \n",
    "    cat_type = \"party_same_pakatan\"\n",
    "    filtered_dict = filter_map(data, params[cat_type], map_file=name_map_file, language=short_lang)\n",
    "    GraphPlotter.plot_semiannual_graph(\"Pakatan party coalition \"+ date, filtered_dict, cat_type, save=True, show=False, suffix=lang, params=params)\n",
    "    GraphPlotter.plot_semiannual_graph(\"Pakatan party coalition \"+ date, filtered_dict, cat_type, plot_kind=\"positive\", save=True, show=False, suffix=lang, params=params)\n",
    "    GraphPlotter.plot_semiannual_graph(\"Pakatan party coalition \"+ date, filtered_dict, cat_type, plot_kind=\"negative\", save=True, show=False, suffix=lang, params=params)\n",
    "    \n",
    "    cat_type = \"leader_same_bn\"\n",
    "    filtered_dict = filter_map(data, params[cat_type], map_file=name_map_file, language=short_lang)\n",
    "    GraphPlotter.plot_semiannual_graph(\"BN leaders coalition \"+ date, filtered_dict, cat_type, save=True, show=False, suffix=lang, params=params)\n",
    "    GraphPlotter.plot_semiannual_graph(\"BN leaders coalition \"+ date, filtered_dict, cat_type, plot_kind=\"positive\", save=True, show=False, suffix=lang, params=params)\n",
    "    GraphPlotter.plot_semiannual_graph(\"BN leaders coalition \"+ date, filtered_dict, cat_type, plot_kind=\"negative\", save=True, show=False, suffix=lang, params=params)\n",
    "\n",
    "    cat_type = \"leader_same_pakatan\"\n",
    "    filtered_dict = filter_map(data, params[cat_type], map_file=name_map_file, language=short_lang)\n",
    "    GraphPlotter.plot_semiannual_graph(\"Pakatan leaders coalition \"+ date, filtered_dict, cat_type, save=True, show=False, suffix=lang, params=params)\n",
    "    GraphPlotter.plot_semiannual_graph(\"Pakatan leaders coalition \"+ date, filtered_dict, cat_type, plot_kind=\"positive\", save=True, show=False, suffix=lang, params=params)\n",
    "    GraphPlotter.plot_semiannual_graph(\"Pakatan leaders coalition \"+ date, filtered_dict, cat_type, plot_kind=\"negative\", save=True, show=False, suffix=lang, params=params)\n",
    "    \n",
    "    cat_type = \"leader_malay\"\n",
    "    filtered_dict = filter_map(data, params[cat_type], map_file=name_map_file, language=short_lang)\n",
    "    GraphPlotter.plot_semiannual_graph(\"Malay leaders \"+ date, filtered_dict, cat_type, save=True, show=False, suffix=lang, params=params)\n",
    "    GraphPlotter.plot_semiannual_graph(\"Malay leaders \"+ date, filtered_dict, cat_type, plot_kind=\"positive\", save=True, show=False, suffix=lang, params=params)\n",
    "    GraphPlotter.plot_semiannual_graph(\"Malay leaders \"+ date, filtered_dict, cat_type, plot_kind=\"negative\", save=True, show=False, suffix=lang, params=params)\n",
    "    \n",
    "    cat_type = \"leader_chinese\"\n",
    "    filtered_dict = filter_map(data, params[cat_type], map_file=name_map_file, language=short_lang)\n",
    "    GraphPlotter.plot_semiannual_graph(\"Chinese leaders \"+ date, filtered_dict, cat_type, save=True, show=False, suffix=lang, params=params)\n",
    "    GraphPlotter.plot_semiannual_graph(\"Chinese leaders \"+ date, filtered_dict, cat_type, plot_kind=\"positive\", save=True, show=False, suffix=lang, params=params)\n",
    "    GraphPlotter.plot_semiannual_graph(\"Chinese leaders \"+ date, filtered_dict, cat_type, plot_kind=\"negative\", save=True, show=False, suffix=lang, params=params)\n",
    "    \n",
    "    cat_type = \"mca_v_dap\"\n",
    "    filtered_dict = filter_map(data, params[cat_type], map_file=name_map_file, language=short_lang)\n",
    "    GraphPlotter.plot_semiannual_graph(\"MCA vs DAP \"+ date, filtered_dict, cat_type, save=True, show=False, suffix=lang, params=params)\n",
    "    GraphPlotter.plot_semiannual_graph(\"MCA vs DAP \"+ date, filtered_dict, cat_type, plot_kind=\"positive\", save=True, show=False, suffix=lang, params=params)\n",
    "    GraphPlotter.plot_semiannual_graph(\"MCA vs DAP \"+ date, filtered_dict, cat_type, plot_kind=\"negative\", save=True, show=False, suffix=lang, params=params)"
   ]
  },
  {
   "cell_type": "code",
   "execution_count": null,
   "metadata": {
    "collapsed": true
   },
   "outputs": [],
   "source": []
  },
  {
   "cell_type": "code",
   "execution_count": 24,
   "metadata": {},
   "outputs": [
    {
     "name": "stderr",
     "output_type": "stream",
     "text": [
      "/usr/lib/python3.6/site-packages/matplotlib/cbook.py:136: MatplotlibDeprecationWarning: The set_color_cycle attribute was deprecated in version 1.5. Use set_prop_cycle instead.\n",
      "  warnings.warn(message, mplDeprecation, stacklevel=1)\n"
     ]
    },
    {
     "name": "stdout",
     "output_type": "stream",
     "text": [
      "leader_different_overall_english.png\n",
      "leader_different_positive_english.png\n",
      "leader_different_negative_english.png\n",
      "party_different_overall_english.png\n",
      "party_different_positive_english.png\n",
      "party_different_negative_english.png\n",
      "party_same_bn_overall_english.png\n",
      "party_same_bn_positive_english.png\n",
      "party_same_bn_negative_english.png\n",
      "party_same_pakatan_overall_english.png\n",
      "party_same_pakatan_positive_english.png\n",
      "party_same_pakatan_negative_english.png\n",
      "leader_same_bn_overall_english.png\n",
      "leader_same_bn_positive_english.png\n",
      "leader_same_bn_negative_english.png\n",
      "leader_same_pakatan_overall_english.png\n",
      "leader_same_pakatan_positive_english.png\n",
      "leader_same_pakatan_negative_english.png\n",
      "leader_malay_overall_english.png\n",
      "leader_malay_positive_english.png\n",
      "leader_malay_negative_english.png\n",
      "leader_chinese_overall_english.png\n",
      "leader_chinese_positive_english.png\n",
      "leader_chinese_negative_english.png\n",
      "mca_v_dap_overall_english.png\n",
      "mca_v_dap_positive_english.png\n",
      "mca_v_dap_negative_english.png\n"
     ]
    }
   ],
   "source": [
    "data = prep_data(params, \"english_extracted.json\")\n",
    "plot_helper(data, params, \"english\")"
   ]
  },
  {
   "cell_type": "code",
   "execution_count": 25,
   "metadata": {},
   "outputs": [
    {
     "name": "stderr",
     "output_type": "stream",
     "text": [
      "/usr/lib/python3.6/site-packages/matplotlib/cbook.py:136: MatplotlibDeprecationWarning: The set_color_cycle attribute was deprecated in version 1.5. Use set_prop_cycle instead.\n",
      "  warnings.warn(message, mplDeprecation, stacklevel=1)\n"
     ]
    },
    {
     "name": "stdout",
     "output_type": "stream",
     "text": [
      "leader_different_overall_chinese.png\n",
      "leader_different_positive_chinese.png\n",
      "leader_different_negative_chinese.png\n",
      "party_different_overall_chinese.png\n",
      "party_different_positive_chinese.png\n",
      "party_different_negative_chinese.png\n",
      "party_same_bn_overall_chinese.png\n",
      "party_same_bn_positive_chinese.png\n",
      "party_same_bn_negative_chinese.png\n",
      "party_same_pakatan_overall_chinese.png\n",
      "party_same_pakatan_positive_chinese.png\n",
      "party_same_pakatan_negative_chinese.png\n",
      "leader_same_bn_overall_chinese.png\n",
      "leader_same_bn_positive_chinese.png\n",
      "leader_same_bn_negative_chinese.png\n",
      "leader_same_pakatan_overall_chinese.png\n",
      "leader_same_pakatan_positive_chinese.png\n",
      "leader_same_pakatan_negative_chinese.png\n",
      "leader_malay_overall_chinese.png\n",
      "leader_malay_positive_chinese.png\n",
      "leader_malay_negative_chinese.png\n",
      "leader_chinese_overall_chinese.png\n",
      "leader_chinese_positive_chinese.png\n",
      "leader_chinese_negative_chinese.png\n",
      "mca_v_dap_overall_chinese.png\n",
      "mca_v_dap_positive_chinese.png\n",
      "mca_v_dap_negative_chinese.png\n"
     ]
    }
   ],
   "source": [
    "data = prep_data(params, \"chinese_extracted.json\")\n",
    "plot_helper(data, params, \"chinese\")"
   ]
  },
  {
   "cell_type": "code",
   "execution_count": null,
   "metadata": {
    "collapsed": true
   },
   "outputs": [],
   "source": []
  },
  {
   "cell_type": "code",
   "execution_count": null,
   "metadata": {
    "collapsed": true
   },
   "outputs": [],
   "source": []
  }
 ],
 "metadata": {
  "kernelspec": {
   "display_name": "Python 3",
   "language": "python",
   "name": "python3"
  },
  "language_info": {
   "codemirror_mode": {
    "name": "ipython",
    "version": 3
   },
   "file_extension": ".py",
   "mimetype": "text/x-python",
   "name": "python",
   "nbconvert_exporter": "python",
   "pygments_lexer": "ipython3",
   "version": "3.6.4"
  }
 },
 "nbformat": 4,
 "nbformat_minor": 2
}
