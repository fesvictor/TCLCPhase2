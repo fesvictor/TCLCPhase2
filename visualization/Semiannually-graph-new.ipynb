{
 "cells": [
  {
   "cell_type": "code",
   "execution_count": null,
   "metadata": {
    "collapsed": true
   },
   "outputs": [],
   "source": [
    "import json\n",
    "import os\n",
    "import numpy as np\n",
    "from pprint import pprint\n",
    "from copy import deepcopy\n",
    "\n",
    "import GraphPlotter\n",
    "import Helper\n",
    "from ReadParameterFile import get_parameter_dict"
   ]
  },
  {
   "cell_type": "code",
   "execution_count": null,
   "metadata": {},
   "outputs": [],
   "source": [
    "params = get_parameter_dict('semiannually-params-json')\n",
    "params"
   ]
  },
  {
   "cell_type": "code",
   "execution_count": null,
   "metadata": {},
   "outputs": [],
   "source": [
    "def prep_data(params):\n",
    "    data = json.load(open(os.path.join(params[\"input_dir\"], \"english_extracted.json\")))\n",
    "    data = data[\"data\"]\n",
    "    \n",
    "    for k in data:\n",
    "        raw_data = data[k]\n",
    "    \n",
    "        # Get length\n",
    "        length = len(data[k][list(data[k].keys())[0]])\n",
    "\n",
    "        overall = np.zeros(length, dtype=np.int32)\n",
    "        for r_k in raw_data:\n",
    "            raw_data[r_k] = np.array(raw_data[r_k])\n",
    "            overall += raw_data[r_k]\n",
    "        data[k] = raw_data\n",
    "        data[k][\"overall\"] = overall\n",
    "    \n",
    "        \"\"\"\n",
    "        for _k in data[k]:\n",
    "            data[k][_k] = Helper.summarize_values_to_week(data[k][_k])\n",
    "        \"\"\"\n",
    "    return data"
   ]
  },
  {
   "cell_type": "code",
   "execution_count": null,
   "metadata": {
    "collapsed": true
   },
   "outputs": [],
   "source": [
    "data = prep_data(params)"
   ]
  },
  {
   "cell_type": "code",
   "execution_count": null,
   "metadata": {},
   "outputs": [],
   "source": [
    "def filter_map(data, filter_list):\n",
    "    ret_map = {}\n",
    "    for name in filter_list:\n",
    "        if name in data:\n",
    "            ret_map[name] = data[name]\n",
    "    \n",
    "    return ret_map"
   ]
  },
  {
   "cell_type": "code",
   "execution_count": null,
   "metadata": {},
   "outputs": [],
   "source": [
    "def plot_helper(data, params, lang):\n",
    "    date = params[\"start_year\"] + \"-\" + params[\"start_month\"] + \" -- \" + params[\"end_year\"] + \"-\" + params[\"end_month\"]\n",
    "    \n",
    "    cat_type = 'leader_different'\n",
    "    filtered_dict = filter_map(data, params[cat_type])\n",
    "    GraphPlotter.plot_semiannual_graph(\"Different coalition leader \"+ date, filtered_dict, \"leader_different\", save=True, show=False, suffix=lang, params=params)\n",
    "    GraphPlotter.plot_semiannual_graph(\"Different coalition leader \"+ date, filtered_dict, \"leader_different\", plot_kind=\"positive\", save=True, show=False, suffix=lang, params=params)\n",
    "    GraphPlotter.plot_semiannual_graph(\"Different coalition leader \"+ date, filtered_dict, \"leader_different\", plot_kind=\"negative\", save=True, show=False, suffix=lang, params=params)\n",
    "\n",
    "    cat_type = \"party_different\"\n",
    "    filtered_dict = filter_map(data, params[cat_type])\n",
    "    GraphPlotter.plot_semiannual_graph(\"Different coalition party\", filtered_dict, \"party_different\", save=True, show=False, suffix=lang, params=params)\n",
    "    GraphPlotter.plot_semiannual_graph(\"Different coalition party\", filtered_dict, \"party_different\", plot_kind=\"positive\", save=True, show=False, suffix=lang, params=params)\n",
    "    GraphPlotter.plot_semiannual_graph(\"Different coalition party\", filtered_dict, \"party_different\", plot_kind=\"negative\", save=True, show=False, suffix=lang, params=params)\n",
    "    \n",
    "    cat_type = \"party_same_bn\"\n",
    "    filtered_dict = filter_map(data, params[cat_type])\n",
    "    GraphPlotter.plot_semiannual_graph(\"BN party coalition \"+ date, filtered_dict, cat_type, save=True, show=False, suffix=lang, params=params)\n",
    "    GraphPlotter.plot_semiannual_graph(\"BN party coalition \"+ date, filtered_dict, cat_type, plot_kind=\"positive\", save=True, show=False, suffix=lang, params=params)\n",
    "    GraphPlotter.plot_semiannual_graph(\"BN party coalition \"+ date, filtered_dict, cat_type, plot_kind=\"negative\", save=True, show=False, suffix=lang, params=params)\n",
    "    \n",
    "    cat_type = \"party_same_pakatan\"\n",
    "    filtered_dict = filter_map(data, params[cat_type])\n",
    "    GraphPlotter.plot_semiannual_graph(\"Pakatan party coalition \"+ date, filtered_dict, cat_type, save=True, show=False, suffix=lang, params=params)\n",
    "    GraphPlotter.plot_semiannual_graph(\"Pakatan party coalition \"+ date, filtered_dict, cat_type, plot_kind=\"positive\", save=True, show=False, suffix=lang, params=params)\n",
    "    GraphPlotter.plot_semiannual_graph(\"Pakatan party coalition \"+ date, filtered_dict, cat_type, plot_kind=\"negative\", save=True, show=False, suffix=lang, params=params)\n",
    "    \n",
    "    cat_type = \"leader_same_bn\"\n",
    "    filtered_dict = filter_map(data, params[cat_type])\n",
    "    GraphPlotter.plot_semiannual_graph(\"BN leaders coalition \"+ date, filtered_dict, cat_type, save=True, show=False, suffix=lang, params=params)\n",
    "    GraphPlotter.plot_semiannual_graph(\"BN leaders coalition \"+ date, filtered_dict, cat_type, plot_kind=\"positive\", save=True, show=False, suffix=lang, params=params)\n",
    "    GraphPlotter.plot_semiannual_graph(\"BN leaders coalition \"+ date, filtered_dict, cat_type, plot_kind=\"negative\", save=True, show=False, suffix=lang, params=params)\n",
    "\n",
    "    cat_type = \"leader_same_pakatan\"\n",
    "    filtered_dict = filter_map(data, params[cat_type])\n",
    "    GraphPlotter.plot_semiannual_graph(\"Pakatan leaders coalition \"+ date, filtered_dict, cat_type, save=True, show=False, suffix=lang, params=params)\n",
    "    GraphPlotter.plot_semiannual_graph(\"Pakatan leaders coalition \"+ date, filtered_dict, cat_type, plot_kind=\"positive\", save=True, show=False, suffix=lang, params=params)\n",
    "    GraphPlotter.plot_semiannual_graph(\"Pakatan leaders coalition \"+ date, filtered_dict, cat_type, plot_kind=\"negative\", save=True, show=False, suffix=lang, params=params)"
   ]
  },
  {
   "cell_type": "code",
   "execution_count": null,
   "metadata": {},
   "outputs": [],
   "source": [
    "for k in data:\n",
    "    for _k in data[k]:\n",
    "        data[k][_k] = Helper.summarize_values_to_week(data[k][_k])\n",
    "\n"
   ]
  },
  {
   "cell_type": "code",
   "execution_count": null,
   "metadata": {},
   "outputs": [],
   "source": [
    "plot_helper(data, params, \"english\")"
   ]
  },
  {
   "cell_type": "code",
   "execution_count": null,
   "metadata": {},
   "outputs": [],
   "source": []
  },
  {
   "cell_type": "code",
   "execution_count": null,
   "metadata": {},
   "outputs": [],
   "source": [
    "\n",
    "        "
   ]
  },
  {
   "cell_type": "code",
   "execution_count": null,
   "metadata": {},
   "outputs": [],
   "source": []
  }
 ],
 "metadata": {
  "kernelspec": {
   "display_name": "Python 3",
   "language": "python",
   "name": "python3"
  },
  "language_info": {
   "codemirror_mode": {
    "name": "ipython",
    "version": 3
   },
   "file_extension": ".py",
   "mimetype": "text/x-python",
   "name": "python",
   "nbconvert_exporter": "python",
   "pygments_lexer": "ipython3",
   "version": "3.6.4"
  }
 },
 "nbformat": 4,
 "nbformat_minor": 2
}
