{
 "cells": [
  {
   "cell_type": "code",
   "execution_count": 1,
   "metadata": {
    "collapsed": true
   },
   "outputs": [],
   "source": [
    "import json\n",
    "import os\n",
    "import numpy as np\n",
    "from pprint import pprint\n",
    "from copy import deepcopy\n",
    "\n",
    "import GraphPlotter\n",
    "import Helper\n",
    "from ReadParameterFile import get_parameter_dict"
   ]
  },
  {
   "cell_type": "code",
   "execution_count": 2,
   "metadata": {},
   "outputs": [
    {
     "data": {
      "text/plain": [
       "{'end_month': '12',\n",
       " 'end_year': '2017',\n",
       " 'graph_types': ['positive', 'negative', 'overall'],\n",
       " 'input_dir': '../analysis/results',\n",
       " 'languages': ['english', 'chinese', 'mix'],\n",
       " 'leader_different': ['lim kit siang',\n",
       "  'lim guan eng',\n",
       "  'anwar',\n",
       "  'mahathir',\n",
       "  'abdul hadi awang',\n",
       "  'liow tiong lai',\n",
       "  'subramaniam',\n",
       "  'najib'],\n",
       " 'leader_same_bn': ['liow tiong lai',\n",
       "  'subramaniam',\n",
       "  'najib',\n",
       "  'mah siew keong'],\n",
       " 'leader_same_pakatan': ['lim kit siang',\n",
       "  'lim guan eng',\n",
       "  'anwar',\n",
       "  'mahathir',\n",
       "  'abdul hadi awang'],\n",
       " 'output_dir': './results-json',\n",
       " 'party_different': ['dap', 'pkr', 'ppbm', 'pas', 'mca', 'umno', 'mic'],\n",
       " 'party_same_bn': ['mca', 'mic', 'umno', 'pbb', 'gerakan'],\n",
       " 'party_same_pakatan': ['dap', 'pkr', 'pas', 'ppbm', 'amanah'],\n",
       " 'start_month': '7',\n",
       " 'start_year': '2017'}"
      ]
     },
     "execution_count": 2,
     "metadata": {},
     "output_type": "execute_result"
    }
   ],
   "source": [
    "params = get_parameter_dict('semiannually-params-json')\n",
    "params"
   ]
  },
  {
   "cell_type": "code",
   "execution_count": 9,
   "metadata": {
    "collapsed": true
   },
   "outputs": [],
   "source": [
    "def prep_data(params, filename):\n",
    "    data = json.load(open(os.path.join(params[\"input_dir\"], filename)))\n",
    "    data = data[\"data\"]\n",
    "    \n",
    "    for k in data:\n",
    "        raw_data = data[k]\n",
    "    \n",
    "        # Get length\n",
    "        length = len(data[k][list(data[k].keys())[0]])\n",
    "\n",
    "        overall = np.zeros(length, dtype=np.int32)\n",
    "        for r_k in raw_data:\n",
    "            raw_data[r_k] = np.array(raw_data[r_k])\n",
    "            overall += raw_data[r_k]\n",
    "        data[k] = raw_data\n",
    "        data[k][\"overall\"] = overall\n",
    "    \n",
    "        \"\"\"\n",
    "        for _k in data[k]:\n",
    "            data[k][_k] = Helper.summarize_values_to_week(data[k][_k])\n",
    "        \"\"\"\n",
    "        \n",
    "    for k in data:\n",
    "        for _k in data[k]:\n",
    "            data[k][_k] = Helper.summarize_values_to_week(data[k][_k])\n",
    "        \n",
    "    return data"
   ]
  },
  {
   "cell_type": "code",
   "execution_count": 10,
   "metadata": {
    "collapsed": true
   },
   "outputs": [],
   "source": [
    "data = prep_data(params, \"english_extracted.json\")"
   ]
  },
  {
   "cell_type": "code",
   "execution_count": 5,
   "metadata": {
    "collapsed": true
   },
   "outputs": [],
   "source": [
    "def filter_map(data, filter_list):\n",
    "    ret_map = {}\n",
    "    for name in filter_list:\n",
    "        if name in data:\n",
    "            ret_map[name] = data[name]\n",
    "    \n",
    "    return ret_map"
   ]
  },
  {
   "cell_type": "code",
   "execution_count": 6,
   "metadata": {
    "collapsed": true
   },
   "outputs": [],
   "source": [
    "def plot_helper(data, params, lang):\n",
    "    date = params[\"start_year\"] + \"-\" + params[\"start_month\"] + \" -- \" + params[\"end_year\"] + \"-\" + params[\"end_month\"]\n",
    "    \n",
    "    cat_type = 'leader_different'\n",
    "    filtered_dict = filter_map(data, params[cat_type])\n",
    "    GraphPlotter.plot_semiannual_graph(\"Different coalition leader \"+ date, filtered_dict, \"leader_different\", save=True, show=False, suffix=lang, params=params)\n",
    "    GraphPlotter.plot_semiannual_graph(\"Different coalition leader \"+ date, filtered_dict, \"leader_different\", plot_kind=\"positive\", save=True, show=False, suffix=lang, params=params)\n",
    "    GraphPlotter.plot_semiannual_graph(\"Different coalition leader \"+ date, filtered_dict, \"leader_different\", plot_kind=\"negative\", save=True, show=False, suffix=lang, params=params)\n",
    "\n",
    "    cat_type = \"party_different\"\n",
    "    filtered_dict = filter_map(data, params[cat_type])\n",
    "    GraphPlotter.plot_semiannual_graph(\"Different coalition party\", filtered_dict, \"party_different\", save=True, show=False, suffix=lang, params=params)\n",
    "    GraphPlotter.plot_semiannual_graph(\"Different coalition party\", filtered_dict, \"party_different\", plot_kind=\"positive\", save=True, show=False, suffix=lang, params=params)\n",
    "    GraphPlotter.plot_semiannual_graph(\"Different coalition party\", filtered_dict, \"party_different\", plot_kind=\"negative\", save=True, show=False, suffix=lang, params=params)\n",
    "    \n",
    "    cat_type = \"party_same_bn\"\n",
    "    filtered_dict = filter_map(data, params[cat_type])\n",
    "    GraphPlotter.plot_semiannual_graph(\"BN party coalition \"+ date, filtered_dict, cat_type, save=True, show=False, suffix=lang, params=params)\n",
    "    GraphPlotter.plot_semiannual_graph(\"BN party coalition \"+ date, filtered_dict, cat_type, plot_kind=\"positive\", save=True, show=False, suffix=lang, params=params)\n",
    "    GraphPlotter.plot_semiannual_graph(\"BN party coalition \"+ date, filtered_dict, cat_type, plot_kind=\"negative\", save=True, show=False, suffix=lang, params=params)\n",
    "    \n",
    "    cat_type = \"party_same_pakatan\"\n",
    "    filtered_dict = filter_map(data, params[cat_type])\n",
    "    GraphPlotter.plot_semiannual_graph(\"Pakatan party coalition \"+ date, filtered_dict, cat_type, save=True, show=False, suffix=lang, params=params)\n",
    "    GraphPlotter.plot_semiannual_graph(\"Pakatan party coalition \"+ date, filtered_dict, cat_type, plot_kind=\"positive\", save=True, show=False, suffix=lang, params=params)\n",
    "    GraphPlotter.plot_semiannual_graph(\"Pakatan party coalition \"+ date, filtered_dict, cat_type, plot_kind=\"negative\", save=True, show=False, suffix=lang, params=params)\n",
    "    \n",
    "    cat_type = \"leader_same_bn\"\n",
    "    filtered_dict = filter_map(data, params[cat_type])\n",
    "    GraphPlotter.plot_semiannual_graph(\"BN leaders coalition \"+ date, filtered_dict, cat_type, save=True, show=False, suffix=lang, params=params)\n",
    "    GraphPlotter.plot_semiannual_graph(\"BN leaders coalition \"+ date, filtered_dict, cat_type, plot_kind=\"positive\", save=True, show=False, suffix=lang, params=params)\n",
    "    GraphPlotter.plot_semiannual_graph(\"BN leaders coalition \"+ date, filtered_dict, cat_type, plot_kind=\"negative\", save=True, show=False, suffix=lang, params=params)\n",
    "\n",
    "    cat_type = \"leader_same_pakatan\"\n",
    "    filtered_dict = filter_map(data, params[cat_type])\n",
    "    GraphPlotter.plot_semiannual_graph(\"Pakatan leaders coalition \"+ date, filtered_dict, cat_type, save=True, show=False, suffix=lang, params=params)\n",
    "    GraphPlotter.plot_semiannual_graph(\"Pakatan leaders coalition \"+ date, filtered_dict, cat_type, plot_kind=\"positive\", save=True, show=False, suffix=lang, params=params)\n",
    "    GraphPlotter.plot_semiannual_graph(\"Pakatan leaders coalition \"+ date, filtered_dict, cat_type, plot_kind=\"negative\", save=True, show=False, suffix=lang, params=params)"
   ]
  },
  {
   "cell_type": "code",
   "execution_count": 7,
   "metadata": {
    "collapsed": true
   },
   "outputs": [],
   "source": []
  },
  {
   "cell_type": "code",
   "execution_count": 11,
   "metadata": {},
   "outputs": [
    {
     "name": "stderr",
     "output_type": "stream",
     "text": [
      "/usr/lib/python3.6/site-packages/matplotlib/cbook.py:136: MatplotlibDeprecationWarning: The set_color_cycle attribute was deprecated in version 1.5. Use set_prop_cycle instead.\n",
      "  warnings.warn(message, mplDeprecation, stacklevel=1)\n"
     ]
    },
    {
     "name": "stdout",
     "output_type": "stream",
     "text": [
      "leader_different_overall_english.png\n",
      "leader_different_positive_english.png\n",
      "leader_different_negative_english.png\n",
      "party_different_overall_english.png\n",
      "party_different_positive_english.png\n",
      "party_different_negative_english.png\n",
      "party_same_bn_overall_english.png\n",
      "party_same_bn_positive_english.png\n",
      "party_same_bn_negative_english.png\n",
      "party_same_pakatan_overall_english.png\n",
      "party_same_pakatan_positive_english.png\n",
      "party_same_pakatan_negative_english.png\n",
      "leader_same_bn_overall_english.png\n",
      "leader_same_bn_positive_english.png\n",
      "leader_same_bn_negative_english.png\n",
      "leader_same_pakatan_overall_english.png\n",
      "leader_same_pakatan_positive_english.png\n",
      "leader_same_pakatan_negative_english.png\n"
     ]
    }
   ],
   "source": [
    "plot_helper(data, params, \"english\")"
   ]
  },
  {
   "cell_type": "code",
   "execution_count": 13,
   "metadata": {},
   "outputs": [
    {
     "name": "stdout",
     "output_type": "stream",
     "text": [
      "{'林冠英': {'positive': [32, 23, 11, 8, 10, 11, 11, 16, 10, 20, 15, 13, 23, 19, 7, 10, 18, 19, 46, 32, 17, 16, 12, 17, 21, 32, 4], 'negative': [43, 21, 20, 15, 12, 32, 16, 14, 14, 49, 35, 14, 22, 30, 20, 18, 25, 30, 88, 43, 17, 13, 25, 29, 30, 61, 5], 'neutral': [43, 27, 30, 18, 21, 34, 27, 27, 28, 30, 48, 56, 26, 45, 37, 26, 51, 69, 134, 57, 21, 26, 44, 25, 26, 39, 8], 'overall': [118, 71, 61, 41, 43, 77, 54, 57, 52, 99, 98, 83, 71, 94, 64, 54, 94, 118, 268, 132, 55, 55, 81, 71, 77, 132, 17]}, '冠英': {'positive': [34, 25, 11, 8, 11, 11, 11, 16, 10, 20, 15, 13, 24, 19, 7, 10, 18, 19, 46, 32, 17, 16, 12, 18, 21, 32, 4], 'negative': [43, 21, 20, 16, 16, 32, 17, 15, 14, 50, 37, 14, 22, 31, 20, 18, 25, 30, 88, 43, 17, 14, 25, 30, 30, 62, 5], 'neutral': [43, 28, 31, 19, 25, 36, 29, 28, 28, 33, 53, 56, 26, 47, 37, 26, 51, 70, 136, 57, 21, 26, 45, 25, 27, 39, 8], 'overall': [120, 74, 62, 43, 52, 79, 57, 59, 52, 103, 105, 83, 72, 97, 64, 54, 94, 119, 270, 132, 55, 56, 82, 73, 78, 133, 17]}, '火箭': {'positive': [47, 65, 51, 26, 29, 36, 23, 36, 26, 33, 38, 35, 51, 40, 63, 41, 48, 24, 49, 45, 29, 37, 35, 54, 62, 59, 26], 'negative': [52, 80, 65, 41, 50, 54, 41, 46, 38, 42, 40, 49, 52, 48, 74, 57, 70, 34, 106, 68, 33, 49, 58, 84, 96, 70, 33], 'neutral': [67, 104, 134, 53, 78, 91, 81, 85, 58, 79, 96, 117, 82, 77, 147, 87, 116, 96, 138, 110, 89, 92, 96, 110, 88, 93, 30], 'overall': [166, 249, 250, 120, 157, 181, 145, 167, 122, 154, 174, 201, 185, 165, 284, 185, 234, 154, 293, 223, 151, 178, 189, 248, 246, 222, 89]}, '老马': {'positive': [38, 29, 56, 36, 22, 9, 19, 13, 18, 25, 7, 11, 14, 5, 13, 9, 16, 15, 18, 24, 15, 17, 31, 30, 30, 21, 11], 'negative': [88, 61, 76, 84, 51, 32, 34, 31, 28, 50, 19, 27, 30, 8, 29, 20, 44, 20, 27, 33, 25, 28, 81, 34, 58, 39, 18], 'neutral': [61, 66, 72, 72, 54, 58, 62, 42, 35, 63, 25, 36, 43, 17, 31, 33, 38, 30, 26, 38, 65, 45, 88, 61, 60, 20, 20], 'overall': [187, 156, 204, 192, 127, 99, 115, 86, 81, 138, 51, 74, 87, 30, 73, 62, 98, 65, 71, 95, 105, 90, 200, 125, 148, 80, 49]}, '纳吉': {'positive': [40, 46, 56, 24, 32, 20, 26, 25, 39, 34, 50, 41, 32, 31, 37, 22, 40, 44, 40, 40, 24, 22, 53, 38, 32, 26, 6], 'negative': [52, 54, 61, 35, 29, 22, 28, 31, 50, 43, 40, 41, 34, 31, 31, 37, 40, 43, 43, 37, 31, 23, 61, 36, 28, 34, 8], 'neutral': [67, 45, 70, 41, 38, 34, 28, 54, 52, 82, 67, 57, 38, 44, 53, 30, 56, 45, 63, 50, 30, 34, 61, 22, 45, 39, 10], 'overall': [159, 145, 187, 100, 99, 76, 82, 110, 141, 159, 157, 139, 104, 106, 121, 89, 136, 132, 146, 127, 85, 79, 175, 96, 105, 99, 24]}, '马华': {'positive': [40, 47, 49, 26, 19, 30, 41, 19, 29, 52, 49, 42, 57, 42, 76, 40, 93, 55, 74, 60, 25, 52, 46, 65, 77, 62, 15], 'negative': [92, 68, 58, 37, 32, 51, 50, 39, 55, 131, 69, 70, 67, 44, 81, 60, 121, 67, 122, 78, 42, 71, 62, 88, 117, 109, 19], 'neutral': [96, 78, 81, 57, 73, 98, 88, 78, 63, 147, 175, 116, 73, 84, 122, 74, 132, 97, 183, 89, 62, 84, 70, 100, 98, 120, 34], 'overall': [228, 193, 188, 120, 124, 179, 179, 136, 147, 330, 293, 228, 197, 170, 279, 174, 346, 219, 379, 227, 129, 207, 178, 253, 292, 291, 68]}, '巫统': {'positive': [36, 49, 54, 19, 30, 18, 22, 12, 34, 19, 24, 18, 20, 31, 62, 36, 39, 16, 31, 23, 18, 35, 54, 55, 44, 34, 10], 'negative': [35, 53, 55, 23, 30, 25, 32, 26, 25, 20, 23, 22, 25, 33, 60, 40, 44, 20, 40, 26, 25, 45, 75, 54, 51, 39, 11], 'neutral': [25, 30, 52, 19, 34, 17, 35, 28, 26, 10, 16, 40, 14, 27, 66, 30, 35, 13, 30, 19, 30, 34, 62, 36, 30, 27, 10], 'overall': [96, 132, 161, 61, 94, 60, 89, 66, 85, 49, 63, 80, 59, 91, 188, 106, 118, 49, 101, 68, 73, 114, 191, 145, 125, 100, 31]}, '马哈迪': {'positive': [40, 34, 56, 28, 32, 15, 21, 12, 34, 20, 20, 13, 28, 21, 22, 21, 19, 12, 18, 14, 14, 23, 36, 45, 32, 28, 7], 'negative': [40, 31, 56, 27, 36, 25, 30, 17, 36, 38, 29, 15, 28, 27, 28, 30, 23, 17, 15, 14, 17, 30, 51, 41, 30, 32, 9], 'neutral': [58, 25, 64, 41, 43, 20, 40, 44, 32, 55, 22, 37, 27, 25, 20, 20, 34, 21, 14, 23, 33, 25, 43, 25, 31, 32, 13], 'overall': [138, 90, 176, 96, 111, 60, 91, 73, 102, 113, 71, 65, 83, 73, 70, 71, 76, 50, 47, 51, 64, 78, 130, 111, 93, 92, 29]}, '希盟': {'positive': [41, 58, 62, 61, 32, 8, 23, 11, 22, 14, 27, 17, 32, 24, 25, 30, 13, 21, 19, 15, 13, 10, 31, 30, 26, 23, 9], 'negative': [33, 65, 69, 59, 39, 13, 28, 18, 20, 24, 29, 17, 35, 23, 24, 39, 21, 21, 25, 16, 25, 11, 40, 27, 30, 23, 10], 'neutral': [19, 15, 45, 32, 37, 22, 26, 13, 23, 27, 21, 18, 26, 31, 37, 25, 19, 12, 23, 16, 24, 6, 31, 17, 22, 15, 17], 'overall': [93, 138, 176, 152, 108, 43, 77, 42, 65, 65, 77, 52, 93, 78, 86, 94, 53, 54, 67, 47, 62, 27, 102, 74, 78, 61, 36]}, '那鸡': {'positive': [2, 1, 6, 3, 0, 0, 0, 1, 0, 1, 4, 1, 2, 4, 1, 2, 1, 1, 0, 2, 1, 0, 1, 0, 1, 2, 1], 'negative': [14, 5, 16, 19, 10, 8, 4, 3, 3, 9, 11, 10, 9, 14, 5, 6, 4, 5, 7, 9, 2, 2, 21, 5, 8, 5, 2], 'neutral': [0, 0, 0, 0, 0, 0, 0, 0, 0, 0, 0, 0, 0, 0, 0, 0, 0, 0, 0, 0, 0, 0, 0, 0, 0, 0, 0], 'overall': [16, 6, 22, 22, 10, 8, 4, 4, 3, 10, 15, 11, 11, 18, 6, 8, 5, 6, 7, 11, 3, 2, 22, 5, 9, 7, 3]}, '民联': {'positive': [18, 21, 12, 6, 9, 1, 3, 1, 5, 6, 4, 5, 11, 9, 13, 17, 12, 5, 7, 6, 2, 5, 5, 6, 10, 8, 3], 'negative': [15, 25, 13, 9, 13, 3, 4, 4, 8, 8, 4, 6, 13, 8, 13, 16, 13, 5, 10, 11, 3, 5, 6, 5, 14, 8, 2], 'neutral': [7, 9, 5, 3, 9, 2, 2, 1, 4, 3, 5, 5, 4, 6, 7, 4, 3, 7, 3, 2, 3, 5, 5, 4, 4, 3, 1], 'overall': [40, 55, 30, 18, 31, 6, 9, 6, 17, 17, 13, 16, 28, 23, 33, 37, 28, 17, 20, 19, 8, 15, 16, 15, 28, 19, 6]}, '行动党': {'positive': [23, 32, 40, 22, 15, 14, 18, 13, 23, 22, 18, 9, 28, 29, 31, 23, 22, 27, 31, 32, 13, 33, 31, 35, 41, 40, 11], 'negative': [24, 38, 41, 18, 15, 20, 18, 10, 18, 15, 13, 12, 26, 27, 35, 22, 16, 26, 28, 40, 12, 32, 34, 38, 43, 39, 8], 'neutral': [14, 20, 36, 11, 9, 14, 4, 11, 11, 8, 3, 5, 9, 18, 14, 12, 15, 10, 20, 21, 4, 7, 18, 8, 17, 16, 11], 'overall': [61, 90, 117, 51, 39, 48, 40, 34, 52, 45, 34, 26, 63, 74, 80, 57, 53, 63, 79, 93, 29, 72, 83, 81, 101, 95, 30]}, '诚信党': {'positive': [5, 4, 11, 7, 4, 2, 6, 0, 10, 4, 5, 14, 13, 16, 15, 13, 9, 3, 5, 6, 26, 3, 3, 4, 6, 8, 1], 'negative': [1, 1, 8, 1, 1, 2, 2, 0, 4, 2, 4, 5, 8, 11, 7, 7, 4, 3, 1, 3, 10, 3, 2, 2, 4, 4, 0], 'neutral': [0, 0, 0, 0, 0, 0, 0, 0, 0, 0, 0, 0, 0, 0, 0, 0, 0, 0, 0, 0, 0, 0, 0, 0, 0, 0, 0], 'overall': [6, 5, 19, 8, 5, 4, 8, 0, 14, 6, 9, 19, 21, 27, 22, 20, 13, 6, 6, 9, 36, 6, 5, 6, 10, 12, 1]}, '卖华': {'positive': [6, 2, 5, 9, 3, 1, 5, 0, 0, 5, 1, 0, 3, 2, 2, 5, 6, 3, 5, 2, 2, 7, 2, 6, 7, 15, 3], 'negative': [19, 17, 18, 24, 13, 18, 15, 5, 6, 29, 26, 7, 17, 9, 14, 24, 22, 14, 25, 19, 17, 53, 23, 47, 45, 54, 3], 'neutral': [0, 0, 0, 0, 0, 0, 0, 0, 0, 0, 0, 0, 0, 0, 0, 0, 0, 0, 0, 0, 0, 0, 0, 0, 0, 0, 0], 'overall': [25, 19, 23, 33, 16, 19, 20, 5, 6, 34, 27, 7, 20, 11, 16, 29, 28, 17, 30, 21, 19, 60, 25, 53, 52, 69, 6]}, '鸡哥': {'positive': [5, 9, 9, 4, 0, 3, 1, 4, 5, 12, 12, 8, 7, 3, 4, 2, 5, 2, 1, 1, 3, 7, 7, 3, 4, 1, 2], 'negative': [19, 35, 32, 21, 13, 38, 10, 26, 28, 41, 45, 46, 28, 25, 26, 18, 31, 20, 18, 28, 19, 30, 42, 17, 28, 15, 4], 'neutral': [0, 0, 0, 0, 0, 0, 0, 0, 0, 0, 0, 0, 0, 0, 0, 0, 0, 0, 0, 0, 0, 0, 0, 0, 0, 0, 0], 'overall': [24, 44, 41, 25, 13, 41, 11, 30, 33, 53, 57, 54, 35, 28, 30, 20, 36, 22, 19, 29, 22, 37, 49, 20, 32, 16, 6]}, '卡巴星': {'positive': [3, 5, 1, 1, 2, 2, 1, 1, 2, 4, 1, 0, 2, 0, 3, 0, 0, 0, 2, 1, 0, 3, 0, 0, 0, 0, 0], 'negative': [3, 9, 0, 1, 3, 7, 1, 1, 1, 3, 0, 0, 3, 0, 3, 0, 0, 0, 6, 1, 0, 2, 2, 0, 0, 2, 0], 'neutral': [0, 6, 4, 3, 3, 8, 0, 1, 1, 3, 4, 1, 0, 2, 0, 0, 2, 2, 2, 2, 0, 2, 2, 1, 2, 0, 1], 'overall': [6, 20, 5, 5, 8, 17, 2, 3, 4, 10, 5, 1, 5, 2, 6, 0, 2, 2, 10, 4, 0, 7, 4, 1, 2, 2, 1]}, '林神': {'positive': [8, 4, 5, 2, 0, 0, 2, 5, 2, 2, 5, 8, 4, 5, 2, 3, 7, 4, 29, 11, 5, 1, 5, 7, 3, 9, 2], 'negative': [16, 15, 17, 10, 6, 7, 6, 11, 9, 9, 24, 13, 22, 5, 7, 11, 16, 22, 74, 20, 14, 11, 7, 26, 20, 25, 1], 'neutral': [20, 21, 12, 8, 15, 25, 16, 15, 7, 9, 25, 14, 14, 20, 8, 18, 31, 26, 82, 30, 17, 11, 13, 18, 25, 28, 8], 'overall': [44, 40, 34, 20, 21, 32, 24, 31, 18, 20, 54, 35, 40, 30, 17, 32, 54, 52, 185, 61, 36, 23, 25, 51, 48, 62, 11]}, '蓝眼': {'positive': [5, 1, 3, 8, 1, 0, 5, 4, 2, 2, 1, 4, 3, 5, 7, 3, 4, 1, 1, 1, 5, 6, 4, 2, 3, 2, 2], 'negative': [7, 4, 1, 8, 1, 0, 4, 5, 4, 3, 1, 6, 1, 5, 6, 0, 1, 0, 2, 1, 5, 6, 4, 1, 2, 1, 3], 'neutral': [4, 9, 4, 1, 1, 1, 7, 4, 2, 14, 0, 7, 4, 3, 6, 2, 1, 0, 3, 1, 6, 6, 11, 13, 2, 2, 3], 'overall': [16, 14, 8, 17, 3, 1, 16, 13, 8, 19, 2, 17, 8, 13, 19, 5, 6, 1, 6, 3, 16, 18, 19, 16, 7, 5, 8]}, '阿鸡': {'positive': [1, 3, 0, 1, 0, 1, 0, 0, 0, 0, 0, 2, 1, 0, 0, 0, 0, 0, 0, 0, 0, 0, 0, 0, 1, 1, 1], 'negative': [11, 21, 1, 4, 8, 6, 2, 3, 5, 12, 2, 7, 2, 2, 5, 4, 5, 3, 0, 4, 1, 1, 2, 2, 5, 2, 2], 'neutral': [0, 0, 0, 0, 0, 0, 0, 0, 0, 0, 0, 0, 0, 0, 0, 0, 0, 0, 0, 0, 0, 0, 0, 0, 0, 0, 0], 'overall': [12, 24, 1, 5, 8, 7, 2, 3, 5, 12, 2, 9, 3, 2, 5, 4, 5, 3, 0, 4, 1, 1, 2, 2, 6, 3, 3]}, '希望联盟': {'positive': [20, 6, 18, 10, 11, 9, 9, 1, 21, 14, 16, 4, 21, 15, 19, 19, 15, 7, 9, 12, 3, 5, 13, 21, 12, 11, 1], 'negative': [8, 3, 14, 4, 4, 6, 3, 1, 6, 12, 8, 1, 8, 7, 11, 12, 9, 6, 4, 6, 1, 3, 8, 11, 9, 5, 1], 'neutral': [0, 0, 0, 0, 0, 0, 0, 0, 0, 0, 0, 0, 0, 0, 0, 0, 0, 0, 0, 0, 0, 0, 0, 0, 0, 0, 0], 'overall': [28, 9, 32, 14, 15, 15, 12, 2, 27, 26, 24, 5, 29, 22, 30, 31, 24, 13, 13, 18, 4, 8, 21, 32, 21, 16, 2]}, '安华': {'positive': [14, 20, 28, 8, 7, 7, 6, 1, 12, 9, 6, 5, 4, 8, 4, 9, 10, 7, 8, 13, 15, 9, 15, 16, 11, 7, 1], 'negative': [22, 17, 27, 10, 10, 12, 7, 6, 10, 13, 4, 6, 6, 8, 4, 9, 14, 7, 7, 9, 21, 13, 25, 13, 17, 6, 3], 'neutral': [23, 19, 26, 6, 6, 13, 6, 7, 5, 33, 1, 10, 8, 8, 8, 7, 20, 5, 4, 10, 41, 14, 15, 11, 10, 8, 2], 'overall': [59, 56, 81, 24, 23, 32, 19, 14, 27, 55, 11, 21, 18, 24, 16, 25, 44, 19, 19, 32, 77, 36, 55, 40, 38, 21, 6]}, '郑雨周': {'positive': [0, 0, 0, 0, 0, 0, 0, 0, 1, 1, 2, 0, 0, 3, 0, 0, 3, 0, 2, 3, 1, 0, 2, 0, 0, 3, 0], 'negative': [0, 0, 0, 0, 0, 0, 0, 0, 1, 1, 2, 0, 0, 3, 0, 0, 3, 2, 3, 3, 0, 0, 0, 0, 0, 1, 0], 'neutral': [1, 0, 0, 1, 0, 0, 0, 2, 0, 0, 0, 0, 0, 0, 0, 0, 8, 7, 6, 0, 1, 0, 0, 1, 0, 0, 0], 'overall': [1, 0, 0, 1, 0, 0, 0, 2, 2, 2, 4, 0, 0, 6, 0, 0, 14, 9, 11, 6, 2, 0, 2, 1, 0, 4, 0]}, '林观音': {'positive': [0, 0, 0, 0, 1, 0, 0, 0, 0, 0, 0, 1, 0, 0, 0, 0, 0, 0, 0, 0, 0, 0, 0, 0, 0, 0, 0], 'negative': [0, 0, 0, 0, 0, 0, 0, 1, 0, 0, 0, 1, 0, 0, 0, 0, 1, 0, 1, 0, 1, 0, 0, 0, 0, 0, 0], 'neutral': [1, 0, 0, 0, 0, 1, 0, 1, 0, 0, 1, 1, 2, 0, 0, 0, 2, 0, 0, 0, 0, 1, 0, 0, 1, 0, 0], 'overall': [1, 0, 0, 0, 1, 1, 0, 2, 0, 0, 1, 3, 2, 0, 0, 0, 3, 0, 1, 0, 1, 1, 0, 0, 1, 0, 0]}, '敦马': {'positive': [6, 12, 11, 11, 12, 8, 11, 6, 14, 6, 5, 3, 7, 13, 13, 9, 6, 3, 4, 4, 2, 6, 7, 16, 6, 7, 1], 'negative': [7, 8, 10, 7, 13, 10, 5, 4, 9, 6, 7, 2, 7, 11, 9, 8, 4, 3, 4, 3, 5, 7, 8, 13, 4, 5, 1], 'neutral': [1, 4, 2, 8, 8, 4, 7, 5, 7, 0, 0, 4, 3, 2, 1, 1, 2, 2, 1, 2, 3, 4, 4, 9, 1, 0, 1], 'overall': [14, 24, 23, 26, 33, 22, 23, 15, 30, 12, 12, 9, 17, 26, 23, 18, 12, 8, 9, 9, 10, 17, 19, 38, 11, 12, 3]}, '许子根': {'positive': [9, 6, 0, 0, 3, 1, 3, 0, 0, 9, 7, 1, 6, 0, 0, 0, 0, 0, 2, 1, 0, 0, 0, 1, 2, 3, 0], 'negative': [1, 2, 0, 0, 1, 1, 1, 0, 0, 4, 7, 0, 5, 1, 0, 0, 1, 1, 2, 4, 2, 0, 0, 3, 2, 4, 1], 'neutral': [0, 1, 2, 1, 4, 0, 1, 2, 1, 6, 5, 10, 9, 1, 4, 0, 2, 2, 5, 6, 2, 0, 3, 2, 4, 4, 0], 'overall': [10, 9, 2, 1, 8, 2, 5, 2, 1, 19, 19, 11, 20, 2, 4, 0, 3, 3, 9, 11, 4, 0, 3, 6, 8, 11, 1]}, '民政': {'positive': [15, 12, 22, 7, 6, 9, 10, 4, 7, 9, 14, 6, 10, 7, 19, 12, 11, 14, 16, 19, 2, 10, 5, 16, 17, 11, 6], 'negative': [31, 25, 38, 9, 13, 21, 10, 12, 11, 14, 22, 8, 12, 6, 20, 21, 12, 15, 28, 30, 4, 12, 10, 17, 26, 15, 11], 'neutral': [27, 20, 20, 19, 16, 20, 11, 22, 21, 20, 30, 14, 9, 17, 14, 7, 16, 11, 39, 18, 2, 10, 9, 12, 14, 16, 7], 'overall': [73, 57, 80, 35, 35, 50, 31, 38, 39, 43, 66, 28, 31, 30, 53, 40, 39, 40, 83, 67, 8, 32, 24, 45, 57, 42, 24]}, '河马': {'positive': [2, 4, 1, 1, 0, 1, 0, 1, 2, 1, 2, 2, 1, 0, 1, 0, 1, 0, 1, 2, 1, 1, 1, 1, 1, 1, 0], 'negative': [10, 7, 2, 6, 8, 14, 2, 5, 8, 9, 9, 4, 7, 2, 5, 3, 7, 5, 0, 10, 2, 7, 7, 2, 10, 3, 0], 'neutral': [7, 14, 10, 3, 8, 10, 6, 9, 8, 13, 8, 12, 2, 3, 1, 1, 12, 7, 8, 9, 3, 4, 12, 2, 4, 3, 1], 'overall': [19, 25, 13, 10, 16, 25, 8, 15, 18, 23, 19, 18, 10, 5, 7, 4, 20, 12, 9, 21, 6, 12, 20, 5, 15, 7, 1]}, '纳鸡': {'positive': [9, 2, 15, 9, 0, 0, 0, 1, 1, 0, 0, 4, 0, 0, 0, 1, 3, 0, 0, 0, 3, 1, 8, 0, 1, 7, 2], 'negative': [23, 18, 26, 26, 0, 2, 7, 1, 3, 4, 0, 5, 3, 2, 5, 4, 13, 1, 0, 1, 3, 4, 22, 6, 6, 15, 5], 'neutral': [0, 0, 0, 0, 0, 0, 0, 0, 0, 0, 0, 0, 0, 0, 0, 0, 0, 0, 0, 0, 0, 0, 0, 0, 0, 0, 0], 'overall': [32, 20, 41, 35, 0, 2, 7, 2, 4, 4, 0, 9, 3, 2, 5, 5, 16, 1, 0, 1, 6, 5, 30, 6, 7, 22, 7]}, '巫桶': {'positive': [2, 0, 0, 0, 0, 0, 0, 0, 1, 0, 0, 1, 2, 2, 1, 2, 1, 0, 0, 0, 0, 1, 1, 2, 2, 2, 3], 'negative': [2, 2, 0, 0, 1, 0, 0, 0, 1, 0, 0, 0, 2, 1, 1, 1, 0, 1, 2, 0, 1, 1, 2, 2, 7, 7, 3], 'neutral': [1, 0, 0, 0, 1, 0, 0, 0, 4, 0, 0, 2, 2, 4, 0, 0, 0, 1, 3, 0, 1, 2, 4, 9, 2, 4, 1], 'overall': [5, 2, 0, 0, 2, 0, 0, 0, 6, 0, 0, 3, 6, 7, 2, 3, 1, 2, 5, 0, 2, 4, 7, 13, 11, 13, 7]}, '拉菲兹': {'positive': [1, 0, 1, 0, 1, 0, 1, 2, 6, 1, 2, 0, 0, 0, 0, 1, 0, 0, 0, 1, 3, 1, 1, 0, 2, 0, 0], 'negative': [1, 0, 0, 1, 1, 0, 3, 2, 0, 5, 1, 0, 0, 0, 0, 0, 0, 0, 0, 1, 2, 1, 2, 0, 3, 1, 0], 'neutral': [0, 1, 0, 1, 0, 0, 6, 3, 3, 15, 1, 1, 0, 0, 0, 0, 0, 0, 0, 1, 0, 0, 2, 0, 1, 2, 0], 'overall': [2, 1, 1, 2, 2, 0, 10, 7, 9, 21, 4, 1, 0, 0, 0, 1, 0, 0, 0, 3, 5, 2, 5, 0, 6, 3, 0]}, '潘俭伟': {'positive': [2, 0, 0, 0, 0, 0, 1, 0, 1, 2, 1, 0, 0, 5, 3, 1, 1, 1, 1, 1, 0, 0, 2, 3, 0, 1, 0], 'negative': [2, 0, 0, 0, 0, 0, 1, 1, 2, 2, 1, 0, 0, 4, 1, 1, 0, 1, 1, 1, 0, 0, 2, 4, 0, 1, 1], 'neutral': [0, 1, 1, 0, 1, 0, 0, 1, 0, 2, 1, 0, 0, 1, 5, 0, 2, 2, 3, 0, 0, 0, 1, 0, 1, 1, 0], 'overall': [4, 1, 1, 0, 1, 0, 2, 2, 3, 6, 3, 0, 0, 10, 9, 2, 3, 4, 5, 2, 0, 0, 5, 7, 1, 3, 1]}, '曹观友': {'positive': [1, 1, 1, 0, 0, 0, 0, 1, 0, 0, 1, 0, 1, 0, 0, 1, 1, 3, 3, 1, 0, 0, 1, 1, 0, 12, 1], 'negative': [3, 1, 1, 3, 0, 1, 3, 0, 0, 0, 0, 0, 1, 0, 0, 1, 3, 5, 6, 2, 0, 0, 0, 1, 0, 11, 0], 'neutral': [4, 3, 1, 2, 0, 7, 0, 0, 1, 0, 3, 3, 6, 1, 3, 3, 7, 6, 4, 0, 0, 0, 0, 0, 0, 3, 0], 'overall': [8, 5, 3, 5, 0, 8, 3, 1, 1, 0, 4, 3, 8, 1, 3, 5, 11, 14, 13, 3, 0, 0, 1, 2, 0, 26, 1]}, '廖中莱': {'positive': [2, 6, 0, 2, 4, 3, 6, 2, 3, 6, 5, 7, 6, 2, 5, 7, 3, 10, 10, 6, 4, 6, 4, 5, 7, 9, 0], 'negative': [6, 2, 1, 1, 2, 3, 3, 1, 3, 3, 4, 5, 3, 2, 4, 6, 5, 8, 11, 6, 4, 7, 2, 2, 6, 9, 0], 'neutral': [3, 2, 5, 2, 5, 0, 1, 1, 14, 4, 8, 8, 3, 10, 5, 5, 6, 10, 9, 2, 1, 0, 1, 3, 0, 1, 1], 'overall': [11, 10, 6, 5, 11, 6, 10, 4, 20, 13, 17, 20, 12, 14, 14, 18, 14, 28, 30, 14, 9, 13, 7, 10, 13, 19, 1]}, '团结党': {'positive': [5, 4, 10, 10, 7, 3, 6, 3, 7, 1, 5, 5, 4, 8, 10, 7, 4, 2, 6, 2, 3, 6, 7, 3, 3, 6, 2], 'negative': [3, 3, 8, 6, 4, 3, 4, 2, 3, 3, 5, 4, 4, 6, 7, 5, 3, 3, 2, 0, 3, 5, 6, 2, 1, 4, 1], 'neutral': [2, 0, 0, 2, 0, 0, 3, 0, 5, 1, 0, 0, 0, 0, 0, 0, 2, 0, 0, 1, 0, 0, 0, 0, 2, 0, 0], 'overall': [10, 7, 18, 18, 11, 6, 13, 5, 15, 5, 10, 9, 8, 14, 17, 12, 9, 5, 8, 3, 6, 11, 13, 5, 6, 10, 3]}, '那只鸡': {'positive': [2, 2, 0, 2, 0, 1, 0, 3, 0, 0, 2, 2, 0, 0, 0, 0, 0, 1, 2, 2, 0, 0, 3, 0, 2, 1, 0], 'negative': [16, 5, 4, 9, 5, 7, 9, 9, 6, 16, 8, 11, 4, 2, 6, 1, 6, 1, 5, 7, 5, 1, 8, 3, 7, 1, 3], 'neutral': [0, 0, 0, 0, 0, 0, 0, 0, 0, 0, 0, 0, 0, 0, 0, 0, 0, 0, 0, 0, 0, 0, 0, 0, 0, 0, 0], 'overall': [18, 7, 4, 11, 5, 8, 9, 12, 6, 16, 10, 13, 4, 2, 6, 1, 6, 2, 7, 9, 5, 1, 11, 3, 9, 2, 3]}, '罗斯玛': {'positive': [0, 0, 0, 0, 0, 2, 1, 1, 0, 0, 0, 0, 0, 1, 0, 0, 0, 1, 1, 0, 2, 1, 1, 0, 0, 0, 0], 'negative': [0, 0, 0, 0, 1, 3, 2, 2, 0, 0, 0, 0, 0, 1, 0, 0, 2, 0, 2, 0, 2, 1, 0, 0, 0, 0, 0], 'neutral': [1, 0, 1, 0, 1, 2, 0, 1, 1, 0, 0, 0, 0, 0, 0, 0, 2, 1, 3, 0, 1, 2, 2, 0, 0, 1, 0], 'overall': [1, 0, 1, 0, 2, 7, 3, 4, 1, 0, 0, 0, 0, 2, 0, 0, 4, 2, 6, 0, 5, 4, 3, 0, 0, 1, 0]}, '魏家祥': {'positive': [0, 3, 1, 0, 0, 0, 2, 1, 0, 0, 1, 2, 1, 3, 0, 0, 1, 1, 6, 3, 1, 2, 1, 2, 0, 6, 0], 'negative': [1, 1, 1, 0, 0, 0, 1, 1, 0, 1, 0, 2, 0, 2, 0, 0, 0, 1, 7, 2, 1, 2, 2, 1, 0, 6, 0], 'neutral': [2, 2, 0, 0, 0, 0, 0, 0, 0, 0, 0, 0, 1, 1, 0, 0, 0, 4, 2, 2, 0, 0, 0, 1, 0, 1, 0], 'overall': [3, 6, 2, 0, 0, 0, 3, 2, 0, 1, 1, 4, 2, 6, 0, 0, 1, 6, 15, 7, 2, 4, 3, 4, 0, 13, 0]}, '林家': {'positive': [0, 1, 2, 2, 1, 6, 0, 1, 1, 1, 0, 0, 2, 1, 2, 0, 1, 0, 0, 1, 1, 0, 0, 0, 1, 0, 0], 'negative': [0, 2, 1, 3, 1, 3, 0, 1, 1, 0, 0, 0, 3, 1, 1, 0, 1, 0, 0, 1, 1, 0, 1, 0, 1, 1, 0], 'neutral': [0, 3, 2, 0, 0, 3, 0, 0, 0, 1, 0, 1, 0, 1, 2, 2, 1, 2, 4, 2, 0, 0, 0, 0, 1, 1, 0], 'overall': [0, 6, 5, 5, 2, 12, 0, 2, 2, 2, 0, 1, 5, 3, 5, 2, 3, 2, 4, 4, 2, 0, 1, 0, 3, 2, 0]}, '卖花': {'positive': [0, 0, 1, 1, 0, 0, 0, 1, 1, 5, 3, 0, 2, 1, 1, 0, 5, 1, 0, 1, 0, 1, 0, 0, 0, 1, 0], 'negative': [0, 1, 0, 1, 0, 0, 1, 6, 3, 6, 2, 1, 0, 2, 0, 1, 12, 4, 2, 3, 0, 2, 0, 0, 2, 2, 0], 'neutral': [0, 1, 2, 2, 1, 1, 2, 4, 5, 1, 0, 1, 1, 2, 1, 1, 6, 2, 2, 0, 4, 2, 0, 0, 0, 2, 0], 'overall': [0, 2, 3, 4, 1, 1, 3, 11, 9, 12, 5, 2, 3, 5, 2, 2, 23, 7, 4, 4, 4, 5, 0, 0, 2, 5, 0]}, '火贱': {'positive': [0, 0, 4, 1, 1, 0, 0, 1, 0, 0, 0, 0, 2, 0, 0, 0, 0, 0, 0, 1, 0, 0, 0, 0, 0, 1, 0], 'negative': [0, 1, 6, 3, 4, 2, 1, 3, 2, 1, 0, 0, 2, 5, 0, 0, 0, 0, 0, 1, 0, 2, 0, 1, 1, 3, 4], 'neutral': [0, 0, 0, 0, 0, 0, 0, 0, 0, 0, 0, 0, 0, 0, 0, 0, 0, 0, 0, 0, 0, 0, 0, 0, 0, 0, 0], 'overall': [0, 1, 10, 4, 5, 2, 1, 4, 2, 1, 0, 0, 4, 5, 0, 0, 0, 0, 0, 2, 0, 2, 0, 1, 1, 4, 4]}, '螺丝马': {'positive': [0, 0, 0, 0, 0, 0, 0, 0, 0, 0, 0, 0, 0, 0, 0, 0, 0, 0, 0, 1, 0, 0, 0, 0, 0, 0, 0], 'negative': [0, 0, 1, 0, 0, 2, 1, 0, 0, 0, 0, 1, 1, 0, 0, 0, 0, 0, 0, 1, 0, 0, 0, 0, 0, 0, 0], 'neutral': [0, 0, 0, 2, 1, 0, 0, 0, 0, 0, 0, 1, 0, 0, 0, 0, 1, 0, 0, 1, 0, 0, 0, 0, 1, 0, 0], 'overall': [0, 0, 1, 2, 1, 2, 1, 0, 0, 0, 0, 2, 1, 0, 0, 0, 1, 0, 0, 3, 0, 0, 0, 0, 1, 0, 0]}, '尿中来': {'positive': [0, 0, 0, 1, 0, 0, 0, 0, 0, 1, 0, 0, 0, 0, 1, 0, 0, 0, 0, 0, 0, 0, 0, 0, 0, 0, 0], 'negative': [0, 0, 1, 0, 0, 0, 1, 0, 1, 0, 0, 0, 0, 0, 0, 0, 0, 0, 0, 0, 0, 0, 0, 0, 0, 0, 0], 'neutral': [0, 0, 1, 1, 0, 0, 0, 0, 0, 0, 2, 2, 2, 0, 0, 0, 0, 0, 0, 0, 0, 0, 1, 0, 1, 0, 0], 'overall': [0, 0, 2, 2, 0, 0, 1, 0, 1, 1, 2, 2, 2, 0, 1, 0, 0, 0, 0, 0, 0, 0, 1, 0, 1, 0, 0]}, '哈迪阿旺': {'positive': [0, 0, 0, 0, 3, 2, 1, 2, 4, 1, 0, 0, 0, 2, 5, 1, 1, 1, 0, 0, 2, 3, 1, 0, 3, 7, 0], 'negative': [0, 0, 0, 0, 2, 1, 1, 1, 3, 1, 0, 0, 0, 2, 3, 0, 2, 0, 0, 0, 1, 2, 1, 0, 2, 4, 0], 'neutral': [0, 0, 0, 1, 0, 1, 1, 0, 0, 1, 0, 0, 0, 0, 0, 0, 1, 0, 0, 0, 0, 1, 1, 0, 1, 2, 0], 'overall': [0, 0, 0, 1, 5, 4, 3, 3, 7, 3, 0, 0, 0, 4, 8, 1, 4, 1, 0, 0, 3, 6, 3, 0, 6, 13, 0]}, '林x英': {'positive': [0, 0, 0, 0, 0, 0, 0, 0, 0, 0, 0, 0, 0, 0, 0, 0, 0, 0, 0, 0, 0, 0, 0, 0, 0, 0, 0], 'negative': [0, 0, 0, 0, 0, 1, 0, 0, 0, 0, 0, 0, 0, 0, 0, 0, 0, 0, 0, 0, 0, 0, 0, 0, 0, 0, 0], 'neutral': [0, 0, 0, 0, 0, 0, 0, 0, 1, 0, 0, 0, 0, 0, 0, 0, 0, 0, 0, 0, 0, 0, 0, 0, 0, 0, 0], 'overall': [0, 0, 0, 0, 0, 1, 0, 0, 1, 0, 0, 0, 0, 0, 0, 0, 0, 0, 0, 0, 0, 0, 0, 0, 0, 0, 0]}, '汚桶': {'positive': [0, 0, 0, 0, 0, 0, 0, 0, 0, 0, 0, 0, 0, 0, 0, 0, 0, 0, 0, 0, 0, 0, 0, 0, 0, 0, 0], 'negative': [0, 0, 0, 0, 0, 0, 0, 0, 0, 0, 0, 0, 0, 0, 0, 0, 0, 0, 0, 0, 0, 0, 0, 0, 0, 1, 0], 'neutral': [0, 0, 0, 0, 0, 0, 0, 0, 1, 0, 0, 0, 0, 0, 0, 0, 0, 0, 0, 0, 0, 0, 0, 0, 0, 0, 1], 'overall': [0, 0, 0, 0, 0, 0, 0, 0, 1, 0, 0, 0, 0, 0, 0, 0, 0, 0, 0, 0, 0, 0, 0, 0, 0, 1, 1]}, '罗死马': {'positive': [0, 0, 0, 0, 0, 0, 0, 0, 0, 0, 0, 0, 0, 0, 0, 0, 0, 0, 0, 0, 0, 0, 0, 0, 0, 0, 0], 'negative': [0, 0, 0, 0, 0, 0, 0, 0, 0, 0, 0, 0, 0, 0, 0, 0, 0, 0, 0, 0, 0, 0, 0, 0, 0, 0, 0], 'neutral': [0, 0, 0, 0, 0, 0, 0, 0, 0, 0, 0, 1, 0, 0, 0, 0, 0, 0, 0, 0, 0, 0, 0, 0, 0, 0, 0], 'overall': [0, 0, 0, 0, 0, 0, 0, 0, 0, 0, 0, 1, 0, 0, 0, 0, 0, 0, 0, 0, 0, 0, 0, 0, 0, 0, 0]}, '尿中莱': {'positive': [0, 0, 0, 0, 0, 0, 0, 0, 0, 0, 0, 0, 0, 0, 0, 0, 0, 0, 0, 0, 0, 0, 0, 0, 0, 0, 0], 'negative': [0, 0, 0, 0, 0, 0, 0, 0, 0, 0, 0, 0, 0, 0, 0, 0, 0, 0, 0, 0, 0, 0, 0, 0, 0, 0, 0], 'neutral': [0, 0, 0, 0, 0, 0, 0, 0, 0, 0, 0, 0, 0, 0, 0, 0, 1, 0, 0, 0, 0, 0, 0, 0, 0, 0, 0], 'overall': [0, 0, 0, 0, 0, 0, 0, 0, 0, 0, 0, 0, 0, 0, 0, 0, 1, 0, 0, 0, 0, 0, 0, 0, 0, 0, 0]}, '林大炮': {'positive': [0, 0, 0, 0, 0, 0, 0, 0, 0, 0, 0, 0, 0, 0, 0, 0, 0, 0, 0, 1, 0, 0, 0, 0, 0, 0, 0], 'negative': [0, 0, 0, 0, 0, 0, 0, 0, 0, 0, 0, 0, 0, 0, 0, 0, 0, 0, 0, 1, 0, 0, 0, 0, 0, 0, 0], 'neutral': [0, 0, 0, 0, 0, 0, 0, 0, 0, 0, 0, 0, 0, 0, 0, 0, 0, 0, 0, 0, 0, 0, 0, 0, 0, 0, 0], 'overall': [0, 0, 0, 0, 0, 0, 0, 0, 0, 0, 0, 0, 0, 0, 0, 0, 0, 0, 0, 2, 0, 0, 0, 0, 0, 0, 0]}}\n"
     ]
    }
   ],
   "source": [
    "data = prep_data(params, \"chinese_extracted.json\")\n",
    "print(data)"
   ]
  },
  {
   "cell_type": "code",
   "execution_count": null,
   "metadata": {
    "collapsed": true
   },
   "outputs": [],
   "source": [
    "\n",
    "        "
   ]
  },
  {
   "cell_type": "code",
   "execution_count": null,
   "metadata": {
    "collapsed": true
   },
   "outputs": [],
   "source": []
  }
 ],
 "metadata": {
  "kernelspec": {
   "display_name": "Python 3",
   "language": "python",
   "name": "python3"
  },
  "language_info": {
   "codemirror_mode": {
    "name": "ipython",
    "version": 3
   },
   "file_extension": ".py",
   "mimetype": "text/x-python",
   "name": "python",
   "nbconvert_exporter": "python",
   "pygments_lexer": "ipython3",
   "version": "3.6.4"
  }
 },
 "nbformat": 4,
 "nbformat_minor": 2
}
