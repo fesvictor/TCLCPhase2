{
 "cells": [
  {
   "cell_type": "code",
   "execution_count": 64,
   "metadata": {
    "collapsed": true
   },
   "outputs": [],
   "source": [
    "import json\n",
    "import os\n",
    "import numpy as np\n",
    "from pprint import pprint\n",
    "from copy import deepcopy\n",
    "\n",
    "import GraphPlotter\n",
    "import Helper\n",
    "from ReadParameterFile import get_parameter_dict\n",
    "from NameMapper import map_name_from_file, map_name_from_json"
   ]
  },
  {
   "cell_type": "code",
   "execution_count": 65,
   "metadata": {},
   "outputs": [
    {
     "data": {
      "text/plain": [
       "{'bn_v_ph_v_pas': ['bn', 'pakatan harapan', 'pas'],\n",
       " 'end_month': '12',\n",
       " 'end_year': '2017',\n",
       " 'graph_types': ['positive', 'negative', 'overall'],\n",
       " 'input_dir': '../analysis/results',\n",
       " 'languages': ['english', 'chinese', 'mix'],\n",
       " 'leader_chinese': ['lim guan eng',\n",
       "  'liow tiong lai',\n",
       "  'lim kit siang',\n",
       "  'wee ka siong'],\n",
       " 'leader_different': ['lim kit siang',\n",
       "  'lim guan eng',\n",
       "  'anwar',\n",
       "  'mahathir',\n",
       "  'abdul hadi awang',\n",
       "  'liow tiong lai',\n",
       "  'subramaniam',\n",
       "  'najib'],\n",
       " 'leader_malay': ['najib', 'mahathir', 'anwar', 'abdul hadi awang'],\n",
       " 'leader_same_bn': ['liow tiong lai',\n",
       "  'subramaniam',\n",
       "  'najib',\n",
       "  'mah siew keong'],\n",
       " 'leader_same_pakatan': ['lim kit siang',\n",
       "  'lim guan eng',\n",
       "  'anwar',\n",
       "  'mahathir',\n",
       "  'abdul hadi awang'],\n",
       " 'mca_v_dap': ['mca', 'dap'],\n",
       " 'output_dir': './results-json',\n",
       " 'party_different': ['dap', 'pkr', 'ppbm', 'pas', 'mca', 'umno', 'mic'],\n",
       " 'party_same_bn': ['mca', 'mic', 'umno', 'pbb', 'gerakan'],\n",
       " 'party_same_pakatan': ['dap', 'pkr', 'pas', 'ppbm', 'amanah'],\n",
       " 'start_month': '7',\n",
       " 'start_year': '2017'}"
      ]
     },
     "execution_count": 65,
     "metadata": {},
     "output_type": "execute_result"
    }
   ],
   "source": [
    "params = get_parameter_dict('semiannually-params-json')\n",
    "params"
   ]
  },
  {
   "cell_type": "code",
   "execution_count": 66,
   "metadata": {
    "collapsed": true
   },
   "outputs": [],
   "source": [
    "def prep_data(params, filename, language=\"en\"):\n",
    "    data = json.load(open(os.path.join(params[\"input_dir\"], filename)))\n",
    "    data = data[\"data\"]\n",
    "    \n",
    "    with open(\"../keywords/target/party.json\") as fin:\n",
    "        parties = json.load(fin)\n",
    "        \n",
    "    party_name_dict = map_name_from_json(\"../keywords/target/party.json\", language=language)\n",
    "    \n",
    "    for k in data:\n",
    "        raw_data = data[k]\n",
    "    \n",
    "        # Get length\n",
    "        length = len(data[k][list(data[k].keys())[0]])\n",
    "\n",
    "        overall = np.zeros(length, dtype=np.int32)\n",
    "        for r_k in raw_data:\n",
    "            raw_data[r_k] = np.array(raw_data[r_k])\n",
    "            overall += raw_data[r_k]\n",
    "        data[k] = raw_data\n",
    "        data[k][\"overall\"] = overall\n",
    "        \n",
    "        \"\"\"\n",
    "        for _k in data[k]:\n",
    "            data[k][_k] = Helper.summarize_values_to_week(data[k][_k])\n",
    "        \"\"\"\n",
    "        \n",
    "    for k in data:\n",
    "        if k in party_name_dict and party_name_dict[k] in parties and parties[party_name_dict[k]][\"parent_party\"] is not None and party_name_dict[parties[party_name_dict[k]][\"parent_party\"]] != party_name_dict[k]:\n",
    "            for r_k in data[k]:\n",
    "                data[party_name_dict[parties[party_name_dict[k]][\"parent_party\"]]][r_k] += data[k][r_k]\n",
    "\n",
    "    for k in data:\n",
    "        for _k in data[k]:\n",
    "            data[k][_k] = Helper.summarize_values_to_week(data[k][_k])\n",
    "        \n",
    "    return data"
   ]
  },
  {
   "cell_type": "code",
   "execution_count": null,
   "metadata": {
    "collapsed": true,
    "scrolled": true
   },
   "outputs": [],
   "source": []
  },
  {
   "cell_type": "code",
   "execution_count": 67,
   "metadata": {
    "collapsed": true
   },
   "outputs": [],
   "source": [
    "def filter_map(data, filter_list, map_file=\"name_mapping.csv\", language=\"en\"):\n",
    "    #name_dict = map_name_from_file(map_file)\n",
    "    name_dict = map_name_from_json(\"../keywords/target/leader.json\", language=language)\n",
    "    name_dict = map_name_from_json(\"../keywords/target/party.json\", language=language, name_dict=name_dict)\n",
    "\n",
    "    \n",
    "    ret_map = {}\n",
    "    for name in filter_list:\n",
    "        if name_dict[name] in data:\n",
    "            ret_map[name_dict[name]] = data[name_dict[name]]\n",
    "    \n",
    "    return ret_map"
   ]
  },
  {
   "cell_type": "code",
   "execution_count": 68,
   "metadata": {
    "collapsed": true
   },
   "outputs": [],
   "source": [
    "def plot_helper(data, params, lang, name_map_file=\"name_mapping.csv\"):\n",
    "    date = params[\"start_year\"] + \"-\" + params[\"start_month\"] + \" -- \" + params[\"end_year\"] + \"-\" + params[\"end_month\"]\n",
    "    \n",
    "    short_lang = \"en\" if lang == \"english\" else \"cn\"\n",
    "    \n",
    "    cat_type = 'leader_different'\n",
    "    filtered_dict = filter_map(data, params[cat_type], map_file=name_map_file, language=short_lang)\n",
    "    GraphPlotter.plot_semiannual_graph(\"Different coalition leader \"+ date, filtered_dict, \"leader_different\", save=True, show=False, suffix=lang, params=params)\n",
    "    GraphPlotter.plot_semiannual_graph(\"Different coalition leader \"+ date, filtered_dict, \"leader_different\", plot_kind=\"positive\", save=True, show=False, suffix=lang, params=params)\n",
    "    GraphPlotter.plot_semiannual_graph(\"Different coalition leader \"+ date, filtered_dict, \"leader_different\", plot_kind=\"negative\", save=True, show=False, suffix=lang, params=params)\n",
    "\n",
    "    cat_type = \"party_different\"\n",
    "    filtered_dict = filter_map(data, params[cat_type], map_file=name_map_file, language=short_lang)\n",
    "    GraphPlotter.plot_semiannual_graph(\"Different coalition party\", filtered_dict, \"party_different\", save=True, show=False, suffix=lang, params=params)\n",
    "    GraphPlotter.plot_semiannual_graph(\"Different coalition party\", filtered_dict, \"party_different\", plot_kind=\"positive\", save=True, show=False, suffix=lang, params=params)\n",
    "    GraphPlotter.plot_semiannual_graph(\"Different coalition party\", filtered_dict, \"party_different\", plot_kind=\"negative\", save=True, show=False, suffix=lang, params=params)\n",
    "    \n",
    "    cat_type = \"party_same_bn\"\n",
    "    filtered_dict = filter_map(data, params[cat_type], map_file=name_map_file, language=short_lang)\n",
    "    GraphPlotter.plot_semiannual_graph(\"BN party coalition \"+ date, filtered_dict, cat_type, save=True, show=False, suffix=lang, params=params)\n",
    "    GraphPlotter.plot_semiannual_graph(\"BN party coalition \"+ date, filtered_dict, cat_type, plot_kind=\"positive\", save=True, show=False, suffix=lang, params=params)\n",
    "    GraphPlotter.plot_semiannual_graph(\"BN party coalition \"+ date, filtered_dict, cat_type, plot_kind=\"negative\", save=True, show=False, suffix=lang, params=params)\n",
    "    \n",
    "    cat_type = \"party_same_pakatan\"\n",
    "    filtered_dict = filter_map(data, params[cat_type], map_file=name_map_file, language=short_lang)\n",
    "    GraphPlotter.plot_semiannual_graph(\"Pakatan party coalition \"+ date, filtered_dict, cat_type, save=True, show=False, suffix=lang, params=params)\n",
    "    GraphPlotter.plot_semiannual_graph(\"Pakatan party coalition \"+ date, filtered_dict, cat_type, plot_kind=\"positive\", save=True, show=False, suffix=lang, params=params)\n",
    "    GraphPlotter.plot_semiannual_graph(\"Pakatan party coalition \"+ date, filtered_dict, cat_type, plot_kind=\"negative\", save=True, show=False, suffix=lang, params=params)\n",
    "    \n",
    "    cat_type = \"leader_same_bn\"\n",
    "    filtered_dict = filter_map(data, params[cat_type], map_file=name_map_file, language=short_lang)\n",
    "    GraphPlotter.plot_semiannual_graph(\"BN leaders coalition \"+ date, filtered_dict, cat_type, save=True, show=False, suffix=lang, params=params)\n",
    "    GraphPlotter.plot_semiannual_graph(\"BN leaders coalition \"+ date, filtered_dict, cat_type, plot_kind=\"positive\", save=True, show=False, suffix=lang, params=params)\n",
    "    GraphPlotter.plot_semiannual_graph(\"BN leaders coalition \"+ date, filtered_dict, cat_type, plot_kind=\"negative\", save=True, show=False, suffix=lang, params=params)\n",
    "\n",
    "    cat_type = \"leader_same_pakatan\"\n",
    "    filtered_dict = filter_map(data, params[cat_type], map_file=name_map_file, language=short_lang)\n",
    "    GraphPlotter.plot_semiannual_graph(\"Pakatan leaders coalition \"+ date, filtered_dict, cat_type, save=True, show=False, suffix=lang, params=params)\n",
    "    GraphPlotter.plot_semiannual_graph(\"Pakatan leaders coalition \"+ date, filtered_dict, cat_type, plot_kind=\"positive\", save=True, show=False, suffix=lang, params=params)\n",
    "    GraphPlotter.plot_semiannual_graph(\"Pakatan leaders coalition \"+ date, filtered_dict, cat_type, plot_kind=\"negative\", save=True, show=False, suffix=lang, params=params)\n",
    "    \n",
    "    cat_type = \"leader_malay\"\n",
    "    filtered_dict = filter_map(data, params[cat_type], map_file=name_map_file, language=short_lang)\n",
    "    GraphPlotter.plot_semiannual_graph(\"Malay leaders \"+ date, filtered_dict, cat_type, save=True, show=False, suffix=lang, params=params)\n",
    "    GraphPlotter.plot_semiannual_graph(\"Malay leaders \"+ date, filtered_dict, cat_type, plot_kind=\"positive\", save=True, show=False, suffix=lang, params=params)\n",
    "    GraphPlotter.plot_semiannual_graph(\"Malay leaders \"+ date, filtered_dict, cat_type, plot_kind=\"negative\", save=True, show=False, suffix=lang, params=params)\n",
    "    \n",
    "    cat_type = \"leader_chinese\"\n",
    "    filtered_dict = filter_map(data, params[cat_type], map_file=name_map_file, language=short_lang)\n",
    "    GraphPlotter.plot_semiannual_graph(\"Chinese leaders \"+ date, filtered_dict, cat_type, save=True, show=False, suffix=lang, params=params)\n",
    "    GraphPlotter.plot_semiannual_graph(\"Chinese leaders \"+ date, filtered_dict, cat_type, plot_kind=\"positive\", save=True, show=False, suffix=lang, params=params)\n",
    "    GraphPlotter.plot_semiannual_graph(\"Chinese leaders \"+ date, filtered_dict, cat_type, plot_kind=\"negative\", save=True, show=False, suffix=lang, params=params)\n",
    "    \n",
    "    cat_type = \"mca_v_dap\"\n",
    "    filtered_dict = filter_map(data, params[cat_type], map_file=name_map_file, language=short_lang)\n",
    "    GraphPlotter.plot_semiannual_graph(\"MCA vs DAP \"+ date, filtered_dict, cat_type, save=True, show=False, suffix=lang, params=params)\n",
    "    GraphPlotter.plot_semiannual_graph(\"MCA vs DAP \"+ date, filtered_dict, cat_type, plot_kind=\"positive\", save=True, show=False, suffix=lang, params=params)\n",
    "    GraphPlotter.plot_semiannual_graph(\"MCA vs DAP \"+ date, filtered_dict, cat_type, plot_kind=\"negative\", save=True, show=False, suffix=lang, params=params)\n",
    "    \n",
    "    cat_type = \"bn_v_ph_v_pas\"\n",
    "    filtered_dict = filter_map(data, params[cat_type], map_file=name_map_file, language=short_lang)\n",
    "    GraphPlotter.plot_semiannual_graph(\"BN vs PH vs PAS \"+ date, filtered_dict, cat_type, save=True, show=False, suffix=lang, params=params)\n",
    "    GraphPlotter.plot_semiannual_graph(\"BN vs PH vs PAS \"+ date, filtered_dict, cat_type, plot_kind=\"positive\", save=True, show=False, suffix=lang, params=params)\n",
    "    GraphPlotter.plot_semiannual_graph(\"BN vs PH vs PAS \"+ date, filtered_dict, cat_type, plot_kind=\"negative\", save=True, show=False, suffix=lang, params=params)"
   ]
  },
  {
   "cell_type": "code",
   "execution_count": null,
   "metadata": {
    "collapsed": true
   },
   "outputs": [],
   "source": []
  },
  {
   "cell_type": "code",
   "execution_count": 69,
   "metadata": {},
   "outputs": [
    {
     "name": "stderr",
     "output_type": "stream",
     "text": [
      "/usr/lib/python3.6/site-packages/matplotlib/cbook.py:136: MatplotlibDeprecationWarning: The set_color_cycle attribute was deprecated in version 1.5. Use set_prop_cycle instead.\n",
      "  warnings.warn(message, mplDeprecation, stacklevel=1)\n"
     ]
    },
    {
     "name": "stdout",
     "output_type": "stream",
     "text": [
      "leader_different_overall_english.png\n",
      "leader_different_positive_english.png\n",
      "leader_different_negative_english.png\n",
      "party_different_overall_english.png\n",
      "party_different_positive_english.png\n",
      "party_different_negative_english.png\n",
      "party_same_bn_overall_english.png\n",
      "party_same_bn_positive_english.png\n",
      "party_same_bn_negative_english.png\n",
      "party_same_pakatan_overall_english.png\n",
      "party_same_pakatan_positive_english.png\n",
      "party_same_pakatan_negative_english.png\n",
      "leader_same_bn_overall_english.png\n",
      "leader_same_bn_positive_english.png\n",
      "leader_same_bn_negative_english.png\n",
      "leader_same_pakatan_overall_english.png\n",
      "leader_same_pakatan_positive_english.png\n",
      "leader_same_pakatan_negative_english.png\n",
      "leader_malay_overall_english.png\n",
      "leader_malay_positive_english.png\n",
      "leader_malay_negative_english.png\n",
      "leader_chinese_overall_english.png\n",
      "leader_chinese_positive_english.png\n",
      "leader_chinese_negative_english.png\n",
      "mca_v_dap_overall_english.png\n",
      "mca_v_dap_positive_english.png\n",
      "mca_v_dap_negative_english.png\n",
      "bn_v_ph_v_pas_overall_english.png\n",
      "bn_v_ph_v_pas_positive_english.png\n",
      "bn_v_ph_v_pas_negative_english.png\n"
     ]
    }
   ],
   "source": [
    "data = prep_data(params, \"english_extracted.json\")\n",
    "plot_helper(data, params, \"english\")"
   ]
  },
  {
   "cell_type": "code",
   "execution_count": 70,
   "metadata": {},
   "outputs": [
    {
     "name": "stderr",
     "output_type": "stream",
     "text": [
      "/usr/lib/python3.6/site-packages/matplotlib/cbook.py:136: MatplotlibDeprecationWarning: The set_color_cycle attribute was deprecated in version 1.5. Use set_prop_cycle instead.\n",
      "  warnings.warn(message, mplDeprecation, stacklevel=1)\n"
     ]
    },
    {
     "name": "stdout",
     "output_type": "stream",
     "text": [
      "leader_different_overall_chinese.png\n",
      "leader_different_positive_chinese.png\n",
      "leader_different_negative_chinese.png\n",
      "party_different_overall_chinese.png\n",
      "party_different_positive_chinese.png\n",
      "party_different_negative_chinese.png\n",
      "party_same_bn_overall_chinese.png\n",
      "party_same_bn_positive_chinese.png\n",
      "party_same_bn_negative_chinese.png\n",
      "party_same_pakatan_overall_chinese.png\n",
      "party_same_pakatan_positive_chinese.png\n",
      "party_same_pakatan_negative_chinese.png\n",
      "leader_same_bn_overall_chinese.png\n",
      "leader_same_bn_positive_chinese.png\n",
      "leader_same_bn_negative_chinese.png\n",
      "leader_same_pakatan_overall_chinese.png\n",
      "leader_same_pakatan_positive_chinese.png\n",
      "leader_same_pakatan_negative_chinese.png\n",
      "leader_malay_overall_chinese.png\n",
      "leader_malay_positive_chinese.png\n",
      "leader_malay_negative_chinese.png\n",
      "leader_chinese_overall_chinese.png\n",
      "leader_chinese_positive_chinese.png\n",
      "leader_chinese_negative_chinese.png\n",
      "mca_v_dap_overall_chinese.png\n",
      "mca_v_dap_positive_chinese.png\n",
      "mca_v_dap_negative_chinese.png\n",
      "bn_v_ph_v_pas_overall_chinese.png\n",
      "bn_v_ph_v_pas_positive_chinese.png\n",
      "bn_v_ph_v_pas_negative_chinese.png\n"
     ]
    }
   ],
   "source": [
    "data = prep_data(params, \"chinese_extracted.json\")\n",
    "plot_helper(data, params, \"chinese\")"
   ]
  },
  {
   "cell_type": "code",
   "execution_count": null,
   "metadata": {
    "collapsed": true
   },
   "outputs": [],
   "source": []
  },
  {
   "cell_type": "code",
   "execution_count": null,
   "metadata": {
    "collapsed": true
   },
   "outputs": [],
   "source": []
  }
 ],
 "metadata": {
  "kernelspec": {
   "display_name": "Python 3",
   "language": "python",
   "name": "python3"
  },
  "language_info": {
   "codemirror_mode": {
    "name": "ipython",
    "version": 3
   },
   "file_extension": ".py",
   "mimetype": "text/x-python",
   "name": "python",
   "nbconvert_exporter": "python",
   "pygments_lexer": "ipython3",
   "version": "3.6.4"
  }
 },
 "nbformat": 4,
 "nbformat_minor": 2
}
