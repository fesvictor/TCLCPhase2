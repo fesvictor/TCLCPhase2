{
 "cells": [
  {
   "cell_type": "code",
   "execution_count": 1,
   "metadata": {
    "collapsed": true
   },
   "outputs": [],
   "source": [
    "from NameMapper import map_name_from_file"
   ]
  },
  {
   "cell_type": "code",
   "execution_count": 2,
   "metadata": {},
   "outputs": [
    {
     "name": "stdout",
     "output_type": "stream",
     "text": [
      "{'abdul hadi awang': 'abdul hadi awang', '哈迪阿旺': 'abdul hadi awang', 'ahmad yakob': 'ahmad yakob', 'ahmah zahid hamidi': 'ahmah zahid hamidi', 'amar nik abdullah': 'amar nik abdullah', 'anwar': 'anwar', '安华·依布拉欣': 'anwar', 'azmin ali': 'azmin ali', 'charles anthony santiago': 'charles anthony santiago', 'chen man hin': 'chen man hin', 'chow kon yeow': 'chow kon yeow', '曹观友': 'chow kon yeow', 'gobind singh deo': 'gobind singh deo', 'hannah yeoh': 'hannah yeoh', 'haron din': 'haron din', 'hishammuddin': 'hishammuddin', 'idris ahmad': 'idris ahmad', 'idris haron': 'idris haron', 'jeff ooi': 'jeff ooi', 'karpal singh': 'karpal singh', '卡巴星': 'karpal singh', 'khairy': 'khairy', 'koh tsu koon': 'koh tsu koon', '许子根': 'koh tsu koon', 'lim guan eng': 'lim guan eng', '林冠英': 'lim guan eng', 'lim kit siang': 'lim kit siang', 'lks': 'lim kit siang', 'liow tiong lai': 'liow tiong lai', '廖中莱': 'liow tiong lai', 'mahathir': 'mahathir', '马哈迪·莫哈末': 'mahathir', 'mahfuz omar': 'mahfuz omar', 'muhyiddin': 'muhyiddin', 'mukhriz': 'mukhriz', 'najib': 'najib', '纳吉·阿都拉萨': 'najib', 'nik mohamad abduh nik abdul aziz': 'nik mohamad abduh nik abdul aziz', 'nik nazmi': 'nik nazmi', 'nurul izzah': 'nurul izzah', 'ong ka chuan': 'ong ka chuan', 'ong kian ming': 'ong kian ming', 'rafizi': 'rafizi', '拉菲兹·南利': 'rafizi', 'rosmah': 'rosmah', '罗斯玛·曼梳': 'rosmah', 'samy vellu': 'samy vellu', 'shahrizat': 'shahrizat', 'shamsul iskandar': 'shamsul iskandar', 'sivarasa rasiah': 'sivarasa rasiah', 'subramaniam': 'subramaniam', 'tengku adnan tengku mansor': 'tengku adnan tengku mansor', 'tengku razaleigh': 'tengku razaleigh', 'teresa kok': 'teresa kok', 'tian chua': 'tian chua', 'tony pua': 'tony pua', '潘儉偉': 'tony pua', 'tuan ibrahim tuan man': 'tuan ibrahim tuan man', 'wan azizah': 'wan azizah', 'wee ka siong': 'wee ka siong', '魏家祥': 'wee ka siong', 'zairil khir johari': 'zairil khir johari', '郑雨周': '郑雨周', 'amanah': 'amanah', 'bn': 'bn', 'dap': 'dap', 'gerakan': 'gerakan', 'keadilan': 'keadilan', 'kimma': 'kimma', 'ldp': 'ldp', 'mca': 'mca', 'pakatan': 'pakatan', 'pakatan rakyat': 'pakatan', 'pakatan harapan': 'pakatan harapan', 'ph': 'pakatan harapan', 'parti islam amanah negara': 'parti islam amanah negara ', 'parti pribumi bersatu malaysia': 'parti pribumi bersatu malaysia', 'pas': 'pas', 'pbb': 'pbb', 'pbs': 'pbs', 'pbrs': 'pbrs', 'pkr': 'pkr', 'ppbm': 'ppbm', 'ppp': 'ppp', 'prs': 'prs', 'spdp': 'spdp', 'supp': 'supp', 'swp': 'swp', 'umno': 'umno'}\n"
     ]
    }
   ],
   "source": [
    "print(map_name_from_file(\"name_mapping.csv\"))"
   ]
  }
 ],
 "metadata": {
  "kernelspec": {
   "display_name": "Python 3",
   "language": "python",
   "name": "python3"
  },
  "language_info": {
   "codemirror_mode": {
    "name": "ipython",
    "version": 3
   },
   "file_extension": ".py",
   "mimetype": "text/x-python",
   "name": "python",
   "nbconvert_exporter": "python",
   "pygments_lexer": "ipython3",
   "version": "3.6.4"
  }
 },
 "nbformat": 4,
 "nbformat_minor": 2
}
