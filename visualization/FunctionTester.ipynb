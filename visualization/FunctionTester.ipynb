{
 "cells": [
  {
   "cell_type": "code",
   "execution_count": 1,
   "metadata": {
    "collapsed": true
   },
   "outputs": [],
   "source": [
    "from NameMapper import map_name_from_file"
   ]
  },
  {
   "cell_type": "code",
   "execution_count": 2,
   "metadata": {},
   "outputs": [
    {
     "name": "stdout",
     "output_type": "stream",
     "text": [
      "{'abdul hadi awang': 'abdul hadi awang', '哈迪阿旺': 'abdul hadi awang', 'ahmad yakob': 'ahmad yakob', 'ahmah zahid hamidi': 'ahmah zahid hamidi', 'amar nik abdullah': 'amar nik abdullah', 'anwar': 'anwar', '安华·依布拉欣': 'anwar', 'azmin ali': 'azmin ali', 'charles anthony santiago': 'charles anthony santiago', 'chen man hin': 'chen man hin', 'chow kon yeow': 'chow kon yeow', '曹观友': 'chow kon yeow', 'gobind singh deo': 'gobind singh deo', 'hannah yeoh': 'hannah yeoh', 'haron din': 'haron din', 'hishammuddin': 'hishammuddin', 'idris ahmad': 'idris ahmad', 'idris haron': 'idris haron', 'jeff ooi': 'jeff ooi', 'karpal singh': 'karpal singh', '卡巴星': 'karpal singh', 'khairy': 'khairy', 'koh tsu koon': 'koh tsu koon', '许子根': 'koh tsu koon', 'lim guan eng': 'lim guan eng', '林冠英': 'lim guan eng', 'lim kit siang': 'lim kit siang', 'lks': 'lim kit siang', 'liow tiong lai': 'liow tiong lai', '廖中莱': 'liow tiong lai', 'mahathir': 'mahathir', '马哈迪·莫哈末': 'mahathir', 'mahfuz omar': 'mahfuz omar', 'mah siew keong': 'mah siew keong', 'muhyiddin': 'muhyiddin', 'mukhriz': 'mukhriz', 'najib': 'najib', '纳吉·阿都拉萨': 'najib', 'nik mohamad abduh nik abdul aziz': 'nik mohamad abduh nik abdul aziz', 'nik nazmi': 'nik nazmi', 'nurul izzah': 'nurul izzah', 'ong ka chuan': 'ong ka chuan', 'ong kian ming': 'ong kian ming', 'rafizi': 'rafizi', '拉菲兹·南利': 'rafizi', 'rosmah': 'rosmah', '罗斯玛·曼梳': 'rosmah', 'samy vellu': 'samy vellu', 'shahrizat': 'shahrizat', 'shamsul iskandar': 'shamsul iskandar', 'sivarasa rasiah': 'sivarasa rasiah', 'subramaniam': 'subramaniam', 'tengku adnan tengku mansor': 'tengku adnan tengku mansor', 'tengku razaleigh': 'tengku razaleigh', 'teresa kok': 'teresa kok', 'tian chua': 'tian chua', 'tony pua': 'tony pua', '潘儉偉': 'tony pua', 'tuan ibrahim tuan man': 'tuan ibrahim tuan man', 'wan azizah': 'wan azizah', 'wee ka siong': 'wee ka siong', '魏家祥': 'wee ka siong', 'zairil khir johari': 'zairil khir johari', '郑雨周': '郑雨周', 'amanah': 'amanah', 'bn': 'bn', 'dap': 'dap', '火箭黨': 'dap', '火箭': 'dap', '火賤': 'dap', 'gerakan': 'gerakan', 'keadilan': 'keadilan', 'kimma': 'kimma', 'ldp': 'ldp', 'mca': 'mca', '馬華': 'mca', 'pakatan': 'pakatan', 'pakatan rakyat': 'pakatan', 'pakatan harapan': 'pakatan harapan', 'ph': 'pakatan harapan', 'parti islam amanah negara ': 'parti islam amanah negara ', 'parti pribumi bersatu malaysia': 'parti pribumi bersatu malaysia', 'pas': 'pas', 'pbb': 'pbb', 'pbs': 'pbs', 'pbrs': 'pbrs', 'pkr': 'pkr', 'ppbm': 'ppbm', 'ppp': 'ppp', 'prs': 'prs', 'spdp': 'spdp', 'supp': 'supp', 'swp': 'swp', 'umno': 'umno', '巫統': 'umno', 'mic': 'mic'}\n"
     ]
    }
   ],
   "source": [
    "print(map_name_from_file(\"name_mapping.csv\"))"
   ]
  },
  {
   "cell_type": "code",
   "execution_count": 4,
   "metadata": {},
   "outputs": [
    {
     "name": "stdout",
     "output_type": "stream",
     "text": [
      "{'诚信党': '诚信党', '国阵': '国阵', '行动党': '行动党', '行洞党': '行动党', '火箭': '行动党', '火贱': '行动党', '民政': '民政', None: None, '马华': '马华', '卖花': '马华', '卖华': '马华', '马来西亚印度国民大会党': '马来西亚印度国民大会党', '国大党': '马来西亚印度国民大会党', '希盟': '希盟', '希望联盟': '希盟', '民联': '民联', '团结党': '团结党', '马来西亚伊斯兰党': '马来西亚伊斯兰党', '回教党': '马来西亚伊斯兰党', '伊党': '马来西亚伊斯兰党', '伊斯兰党': '马来西亚伊斯兰党', '蓝眼': '蓝眼', '公正党': '蓝眼', '人民公正党': '蓝眼', '土着团结党': '土着团结党', '土团党': '土着团结党', '巫统': '巫统', '巫桶': '巫统', '汚桶': '巫统', '一马': '一马', '哈迪阿旺': '哈迪阿旺', '安华·依布拉欣': '安华·依布拉欣', '安华': '安华·依布拉欣', '卡巴星': '卡巴星', '林冠英': '林冠英', '林家': '林冠英', '林神': '林冠英', '冠英': '林冠英', '林大炮': '林冠英', '林观音': '林冠英', '林x英': '林冠英', '林吉祥': '林吉祥', '廖中莱': '廖中莱', '尿中莱': '廖中莱', '尿中来': '廖中莱', '廖中菜': '廖中莱', '马袖强': '马袖强', '马哈迪·莫哈末': '马哈迪·莫哈末', '马哈迪': '马哈迪·莫哈末', '老马': '马哈迪·莫哈末', '敦马': '马哈迪·莫哈末', '老番薯': '马哈迪·莫哈末', '纳吉·阿都拉萨': '纳吉·阿都拉萨', '纳吉': '纳吉·阿都拉萨', '鸡哥': '纳吉·阿都拉萨', '那鸡': '纳吉·阿都拉萨', '那只鸡': '纳吉·阿都拉萨', '纳鸡': '纳吉·阿都拉萨', '阿鸡': '纳吉·阿都拉萨', '大马1号哥': '纳吉·阿都拉萨', '大马一号哥': '纳吉·阿都拉萨', '一马哥': '纳吉·阿都拉萨', '1马哥': '纳吉·阿都拉萨', '拉菲兹·南利': '拉菲兹·南利', '拉菲兹': '拉菲兹·南利', '罗斯玛·曼梳': '罗斯玛·曼梳', '罗斯玛': '罗斯玛·曼梳', '螺丝玛': '罗斯玛·曼梳', '螺丝马': '罗斯玛·曼梳', '河马': '罗斯玛·曼梳', '罗死马': '罗斯玛·曼梳', '苏巴马廉': '苏巴马廉', '潘俭伟': '潘俭伟', '曹观友': '曹观友', '郑雨周': '郑雨周', '魏家祥': '魏家祥', '许子根': '许子根'}\n"
     ]
    }
   ],
   "source": [
    "from NameMapper import map_name_from_json\n",
    "\n",
    "a = map_name_from_json(\"../keywords/target/party.json\", language=\"cn\")\n",
    "a = map_name_from_json(\"../keywords/target/leader.json\", language=\"cn\", name_dict=a)\n",
    "print(a)"
   ]
  },
  {
   "cell_type": "code",
   "execution_count": null,
   "metadata": {
    "collapsed": true
   },
   "outputs": [],
   "source": []
  }
 ],
 "metadata": {
  "kernelspec": {
   "display_name": "Python 3",
   "language": "python",
   "name": "python3"
  },
  "language_info": {
   "codemirror_mode": {
    "name": "ipython",
    "version": 3
   },
   "file_extension": ".py",
   "mimetype": "text/x-python",
   "name": "python",
   "nbconvert_exporter": "python",
   "pygments_lexer": "ipython3",
   "version": "3.6.4"
  }
 },
 "nbformat": 4,
 "nbformat_minor": 2
}
