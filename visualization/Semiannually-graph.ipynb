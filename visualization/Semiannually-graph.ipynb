{
 "cells": [
  {
   "cell_type": "code",
   "execution_count": 1,
   "metadata": {
    "collapsed": true
   },
   "outputs": [],
   "source": [
    "import os\n",
    "import glob\n",
    "from functools import reduce\n",
    "\n",
    "import pandas as pd\n",
    "import numpy as np\n",
    "import matplotlib.font_manager as fm\n",
    "import matplotlib.pyplot as plt\n",
    "import matplotlib.patches as mpatches\n",
    "import pathlib\n",
    "\n",
    "import ReadParameterFile\n",
    "import NameMapper\n",
    "import GraphPlotter"
   ]
  },
  {
   "cell_type": "code",
   "execution_count": 2,
   "metadata": {},
   "outputs": [],
   "source": [
    "params = ReadParameterFile.get_parameter_dict(\"semiannually-params\")\n",
    "prop = fm.FontProperties(fname=\"simhei.ttf\")"
   ]
  },
  {
   "cell_type": "code",
   "execution_count": 3,
   "metadata": {},
   "outputs": [
    {
     "data": {
      "text/plain": [
       "{'end_month': '12',\n",
       " 'end_year': '2017',\n",
       " 'graph_types': ['positive', 'negative', 'overall'],\n",
       " 'input_dir': '../temp',\n",
       " 'languages': ['english', 'chinese', 'mix'],\n",
       " 'leader_different': ['lim kit siang',\n",
       "  'lim guan eng',\n",
       "  'anwar',\n",
       "  'mahathir',\n",
       "  'abdul hadi awang',\n",
       "  'liow tiong lai',\n",
       "  'subramaniam',\n",
       "  'najib'],\n",
       " 'leader_same_bn': ['liow tiong lai',\n",
       "  'subramaniam',\n",
       "  'najib',\n",
       "  'mah siew keong'],\n",
       " 'leader_same_pakatan': ['lim kit siang',\n",
       "  'lim guan eng',\n",
       "  'anwar',\n",
       "  'mahathir',\n",
       "  'abdul hadi awang'],\n",
       " 'output_dir': './results',\n",
       " 'party_different': ['dap', 'pkr', 'ppbm', 'pas', 'mca', 'umno', 'mic'],\n",
       " 'party_same_bn': ['mca', 'mic', 'umno', 'pbb', 'gerakan'],\n",
       " 'party_same_pakatan': ['dap', 'pkr', 'pas', 'ppbm', 'amanah'],\n",
       " 'start_month': '7',\n",
       " 'start_year': '2017'}"
      ]
     },
     "execution_count": 3,
     "metadata": {},
     "output_type": "execute_result"
    }
   ],
   "source": [
    "params"
   ]
  },
  {
   "cell_type": "code",
   "execution_count": 4,
   "metadata": {
    "collapsed": true
   },
   "outputs": [],
   "source": [
    "# Extracted from : https://stackoverflow.com/a/2186555\n",
    "def list_all_files(root_path, ext=\".csv\", front=\"20\"):\n",
    "    cfiles = []\n",
    "    for root, dirs, files in os.walk(root_path):\n",
    "        for file in files:\n",
    "            if file.startswith(front) and file.endswith(ext):\n",
    "                cfiles.append(os.path.join(root, file))\n",
    "    return cfiles"
   ]
  },
  {
   "cell_type": "code",
   "execution_count": 5,
   "metadata": {
    "collapsed": true
   },
   "outputs": [],
   "source": [
    "def split_files_by_keyword(files, keyword):\n",
    "    groups = {}\n",
    "    for kw in keyword:\n",
    "        groups[kw] = [f for f in files if kw in f]\n",
    "    return groups\n",
    "            "
   ]
  },
  {
   "cell_type": "code",
   "execution_count": 6,
   "metadata": {
    "collapsed": true
   },
   "outputs": [],
   "source": [
    "def filter_files_by_time_range(files, start_year=2017, end_year=2017, start_month=7, end_month=12):\n",
    "    # transform args to int as keepsafe\n",
    "    start_year = int(start_year)\n",
    "    end_year = int(end_year)\n",
    "    start_month = int(start_month)\n",
    "    end_month = int(end_month)\n",
    "    \n",
    "    dates = []\n",
    "    if start_year == end_year:\n",
    "        dates = [str(start_year) + \"_{:02d}\".format(n) for n in range(start_month, end_month + 1)]\n",
    "    return split_files_by_keyword(files, dates)"
   ]
  },
  {
   "cell_type": "code",
   "execution_count": 7,
   "metadata": {
    "collapsed": true
   },
   "outputs": [],
   "source": [
    "def flatten_dict(d):\n",
    "    ret = []\n",
    "    for k in d:\n",
    "        ret = ret + d[k]\n",
    "    return ret"
   ]
  },
  {
   "cell_type": "code",
   "execution_count": 8,
   "metadata": {
    "collapsed": true
   },
   "outputs": [],
   "source": [
    "\"\"\"\n",
    "files : array of files\n",
    "\n",
    "overall is default behavior\n",
    "\"\"\"\n",
    "name_dict = NameMapper.map_name_from_file(\"name_mapping.csv\")\n",
    "def aggregate_tables(files, positive=False, negative=False):\n",
    "    global name_dict\n",
    "    ret_dict = {}\n",
    "    for f in files:\n",
    "        df = pd.read_csv(f, sep=',')\n",
    "        # Add all names into dict\n",
    "        for n in set(df['name'].tolist()):\n",
    "            # Do overall \n",
    "            if n in ret_dict or name_dict[n] in ret_dict:\n",
    "                ret_dict[name_dict[n]]['overall'] += df.loc[df['name']==n].as_matrix()[0][2:] + df.loc[df['name']==n].as_matrix()[1][2:]\n",
    "            else:\n",
    "                ret_dict[name_dict[n]] = {'overall': df.loc[df['name']==n].as_matrix()[0][2:] + df.loc[df['name']==n].as_matrix()[1][2:]}\n",
    "            if positive:\n",
    "                if \"positive\" in ret_dict[name_dict[n]]:\n",
    "                    ret_dict[name_dict[n]]['positive'] += df.loc[(df['name']==n) & (df['scale']==1)].as_matrix()[0][2:]\n",
    "                else:\n",
    "                    ret_dict[name_dict[n]]['positive'] = df.loc[(df['name']==n) & (df['scale']==1)].as_matrix()[0][2:]\n",
    "\n",
    "            if negative:\n",
    "                if \"negative\" in ret_dict[name_dict[n]]:\n",
    "                    ret_dict[name_dict[n]]['negative'] += df.loc[(df['name']==n) & (df['scale']==2)].as_matrix()[0][2:]\n",
    "                else:\n",
    "                    ret_dict[name_dict[n]]['negative'] = df.loc[(df['name']==n) & (df['scale']==2)].as_matrix()[0][2:]\n",
    "\n",
    "    return ret_dict\n",
    "                "
   ]
  },
  {
   "cell_type": "code",
   "execution_count": 9,
   "metadata": {
    "collapsed": true
   },
   "outputs": [],
   "source": [
    "\"\"\"\n",
    "arr : np.array\n",
    "\n",
    "returns an array of 5 values --> 5 weeks\n",
    "\"\"\"\n",
    "def summarize_values_to_week(arr):\n",
    "    return [arr[0:7].sum(), arr[7:14].sum(), arr[14:21].sum(), arr[21:28].sum(), arr[28:31].sum()]"
   ]
  },
  {
   "cell_type": "code",
   "execution_count": 10,
   "metadata": {
    "collapsed": true
   },
   "outputs": [],
   "source": [
    "\"\"\"\n",
    "marr : array of dicts\n",
    "\n",
    "\"\"\"\n",
    "def flatten_map(marr):\n",
    "    ret_dict = []\n",
    "    for key in marr[0]:\n",
    "        new_dict = {key: []}\n",
    "        for d in marr:\n",
    "            new_dict[key] += [d[key]]\n",
    "        ret_dict += [new_dict]\n",
    "    return ret_dict"
   ]
  },
  {
   "cell_type": "code",
   "execution_count": 11,
   "metadata": {
    "collapsed": true
   },
   "outputs": [],
   "source": [
    "def flatten_inner_array(x):\n",
    "    for i, n in enumerate(x):\n",
    "        x[i][list(n.keys())[0]] = flatten_map(x[i][list(n.keys())[0]])\n",
    "        for j, n2 in enumerate(x[i][list(n.keys())[0]]):\n",
    "            x[i][list(n.keys())[0]][j][list(n2.keys())[0]] = np.concatenate(n2[list(n2.keys())[0]]).ravel().tolist()\n",
    "    return x"
   ]
  },
  {
   "cell_type": "code",
   "execution_count": 12,
   "metadata": {
    "collapsed": true
   },
   "outputs": [],
   "source": [
    "def flatten_array_to_map(marr):\n",
    "    dict_merge = lambda a,b: a.update(b) or a\n",
    "    return reduce((lambda x, y: dict_merge(x, y)), marr)"
   ]
  },
  {
   "cell_type": "code",
   "execution_count": 13,
   "metadata": {
    "collapsed": true,
    "scrolled": true
   },
   "outputs": [],
   "source": [
    "prep_data_cache = None\n",
    "def prepare_data_from_source(input_dir, languages, pref_language, candidate, graph_types, filters=None, clear_cache=False):\n",
    "    global prep_data_cache\n",
    "    if clear_cache:\n",
    "        prep_data_cache = None\n",
    "    if not prep_data_cache:\n",
    "        files = list_all_files(input_dir)\n",
    "        g = split_files_by_keyword(files, languages)\n",
    "        d = split_files_by_keyword(g[pref_language], [candidate])\n",
    "        d = filter_files_by_time_range(d[candidate])\n",
    "        tables = [aggregate_tables(d[k], positive=True, negative=True) for k in d]\n",
    "        for _t in tables:\n",
    "            for k in _t:\n",
    "                for types in graph_types:\n",
    "                    _t[k][types] = summarize_values_to_week(_t[k][types])\n",
    "\n",
    "        x = flatten_map(tables)\n",
    "\n",
    "        x_last = flatten_inner_array(x)\n",
    "        xl2 = x_last\n",
    "        xl3 = flatten_array_to_map(xl2)\n",
    "\n",
    "        for n in xl3:\n",
    "            xl3[n] = flatten_array_to_map(xl3[n])\n",
    "        if filters:\n",
    "            filtered_dict = flatten_array_to_map([{name_dict[n]: xl3[name_dict[n]]} for n in filters if name_dict[n] in xl3])\n",
    "        else:\n",
    "            filtered_dict = flatten_array_to_map([xl3])\n",
    "            \n",
    "        prep_data_cache = filtered_dict    \n",
    "    else:\n",
    "        if filters:\n",
    "            filtered_dict = flatten_array_to_map([{name_dict[n]: prep_data_cache[name_dict[n]]} for n in filters if name_dict[n] in prep_data_cache])\n",
    "        else:\n",
    "            filtered_dict = flatten_array_to_map([prep_data_cache])\n",
    "    return filtered_dict\n",
    "\n",
    "def clear_prep_data_cache():\n",
    "    global prep_data_cache\n",
    "    prep_data_cache = None"
   ]
  },
  {
   "cell_type": "code",
   "execution_count": 14,
   "metadata": {
    "collapsed": true
   },
   "outputs": [],
   "source": [
    "#filtered_dict = prepare_data_from_source(params['input_dir'], params['languages'], 'english', 'leader', params['graph_types'])\n"
   ]
  },
  {
   "cell_type": "code",
   "execution_count": 15,
   "metadata": {},
   "outputs": [],
   "source": [
    "def plot_semiannual_graph(name, data, category, plot_kind=\"overall\", save=False, show=True, suffix=None):\n",
    "    if isinstance(suffix,str):\n",
    "        if suffix == \"chinese\":\n",
    "            plt.rcParams[\"font.family\"] = \"simhei\"\n",
    "        else:\n",
    "            plt.rcParams[\"font.family\"] = \"sans-serif\"\n",
    "    weeks = [i + 1 for i in range(0, 6 * 5)]\n",
    "    dpi = 96\n",
    "    plt.figure(figsize=(1366/dpi,768/dpi), dpi=dpi)\n",
    "    plt.gca().set_color_cycle(['green', 'red', 'blue', 'purple', 'yellow', 'gray', 'orange', 'magenta'])\n",
    "    \n",
    "    plt.xlabel(\"Week\")\n",
    "    plt.ylabel(\"Polarity\")\n",
    "    plt.xticks(weeks, [\"W\" + str((i % 5)) if i % 5 == 1 else str((i % 5 + 1)) for i in weeks])\n",
    "    \n",
    "    graph_title = name + \" \" + plot_kind\n",
    "    \n",
    "    plt.suptitle(graph_title, fontsize=20)\n",
    "    for n in data:\n",
    "        plt.plot(weeks, data[n][plot_kind], label=n)\n",
    "        \n",
    "    plt.legend()\n",
    "    \n",
    "    if save:\n",
    "        root_dir = params['output_dir']\n",
    "        graph_dir = \"semiannual_plot\"\n",
    "        current_run_dir = params['start_year'] + \"-\" + params['start_month'] + \"__\" + params['end_year'] + \"-\" + params['end_month']\n",
    "        endpath = os.path.join(root_dir, graph_dir, current_run_dir, category)\n",
    "        \n",
    "        pathlib.Path(endpath).mkdir(parents=True, exist_ok=True)\n",
    "        filename =category + \"_\" + plot_kind\n",
    "        if isinstance(suffix, str):\n",
    "            filename += \"_\" + suffix\n",
    "        filename += \".png\"\n",
    "        print(filename)\n",
    "        plt.savefig(os.path.join(endpath, filename), dpi=dpi)\n",
    "        \n",
    "    if show:\n",
    "        plt.show()\n",
    "    \n",
    "    plt.close('all')\n",
    "    "
   ]
  },
  {
   "cell_type": "code",
   "execution_count": 16,
   "metadata": {},
   "outputs": [],
   "source": [
    "def plot_helper(lang):\n",
    "    date = params[\"start_year\"] + \"-\" + params[\"start_month\"] + \" -- \" + params[\"end_year\"] + \"-\" + params[\"end_month\"]\n",
    "    \n",
    "    filtered_dict = prepare_data_from_source(params['input_dir'], params['languages'], lang, 'leader', params['graph_types'], params['leader_different'], clear_cache=True)\n",
    "    GraphPlotter.plot_semiannual_graph(\"Different coalition leader \"+ date, filtered_dict, \"leader_different\", save=True, show=False, suffix=lang, params=params)\n",
    "    GraphPlotter.plot_semiannual_graph(\"Different coalition leader \"+ date, filtered_dict, \"leader_different\", plot_kind=\"positive\", save=True, show=False, suffix=lang, params=params)\n",
    "    GraphPlotter.plot_semiannual_graph(\"Different coalition leader \"+ date, filtered_dict, \"leader_different\", plot_kind=\"negative\", save=True, show=False, suffix=lang, params=params)\n",
    "\n",
    "    filtered_dict = prepare_data_from_source(params['input_dir'], params['languages'], lang, 'party', params['graph_types'], params['party_different'], clear_cache=True)\n",
    "    GraphPlotter.plot_semiannual_graph(\"Different coalition party\", filtered_dict, \"party_different\", save=True, show=False, suffix=lang, params=params)\n",
    "    GraphPlotter.plot_semiannual_graph(\"Different coalition party\", filtered_dict, \"party_different\", plot_kind=\"positive\", save=True, show=False, suffix=lang, params=params)\n",
    "    GraphPlotter.plot_semiannual_graph(\"Different coalition party\", filtered_dict, \"party_different\", plot_kind=\"negative\", save=True, show=False, suffix=lang, params=params)\n",
    "    \n",
    "    cat_type = \"party_same_bn\"\n",
    "    filtered_dict = prepare_data_from_source(params['input_dir'], params['languages'], lang, 'party', params['graph_types'], params[cat_type], clear_cache=True)\n",
    "    GraphPlotter.plot_semiannual_graph(\"BN party coalition \"+ date, filtered_dict, cat_type, save=True, show=False, suffix=lang, params=params)\n",
    "    GraphPlotter.plot_semiannual_graph(\"BN party coalition \"+ date, filtered_dict, cat_type, plot_kind=\"positive\", save=True, show=False, suffix=lang, params=params)\n",
    "    GraphPlotter.plot_semiannual_graph(\"BN party coalition \"+ date, filtered_dict, cat_type, plot_kind=\"negative\", save=True, show=False, suffix=lang, params=params)\n",
    "    \n",
    "    cat_type = \"party_same_pakatan\"\n",
    "    filtered_dict = prepare_data_from_source(params['input_dir'], params['languages'], lang, 'party', params['graph_types'], params[cat_type], clear_cache=True)\n",
    "    GraphPlotter.plot_semiannual_graph(\"Pakatan party coalition \"+ date, filtered_dict, cat_type, save=True, show=False, suffix=lang, params=params)\n",
    "    GraphPlotter.plot_semiannual_graph(\"Pakatan party coalition \"+ date, filtered_dict, cat_type, plot_kind=\"positive\", save=True, show=False, suffix=lang, params=params)\n",
    "    GraphPlotter.plot_semiannual_graph(\"Pakatan party coalition \"+ date, filtered_dict, cat_type, plot_kind=\"negative\", save=True, show=False, suffix=lang, params=params)\n",
    "    \n",
    "    cat_type = \"leader_same_bn\"\n",
    "    filtered_dict = prepare_data_from_source(params['input_dir'], params['languages'], lang, 'leader', params['graph_types'], params[cat_type], clear_cache=True)\n",
    "    GraphPlotter.plot_semiannual_graph(\"BN leaders coalition \"+ date, filtered_dict, cat_type, save=True, show=False, suffix=lang, params=params)\n",
    "    GraphPlotter.plot_semiannual_graph(\"BN leaders coalition \"+ date, filtered_dict, cat_type, plot_kind=\"positive\", save=True, show=False, suffix=lang, params=params)\n",
    "    GraphPlotter.plot_semiannual_graph(\"BN leaders coalition \"+ date, filtered_dict, cat_type, plot_kind=\"negative\", save=True, show=False, suffix=lang, params=params)\n",
    "\n",
    "    cat_type = \"leader_same_pakatan\"\n",
    "    filtered_dict = prepare_data_from_source(params['input_dir'], params['languages'], lang, 'leader', params['graph_types'], params[cat_type], clear_cache=True)\n",
    "    GraphPlotter.plot_semiannual_graph(\"Pakatan leaders coalition \"+ date, filtered_dict, cat_type, save=True, show=False, suffix=lang, params=params)\n",
    "    GraphPlotter.plot_semiannual_graph(\"Pakatan leaders coalition \"+ date, filtered_dict, cat_type, plot_kind=\"positive\", save=True, show=False, suffix=lang, params=params)\n",
    "    GraphPlotter.plot_semiannual_graph(\"Pakatan leaders coalition \"+ date, filtered_dict, cat_type, plot_kind=\"negative\", save=True, show=False, suffix=lang, params=params)"
   ]
  },
  {
   "cell_type": "code",
   "execution_count": 17,
   "metadata": {},
   "outputs": [
    {
     "name": "stderr",
     "output_type": "stream",
     "text": [
      "/usr/lib/python3.6/site-packages/matplotlib/cbook.py:136: MatplotlibDeprecationWarning: The set_color_cycle attribute was deprecated in version 1.5. Use set_prop_cycle instead.\n",
      "  warnings.warn(message, mplDeprecation, stacklevel=1)\n"
     ]
    },
    {
     "name": "stdout",
     "output_type": "stream",
     "text": [
      "leader_different_overall_english.png\n",
      "leader_different_positive_english.png\n",
      "leader_different_negative_english.png\n",
      "party_different_overall_english.png\n",
      "party_different_positive_english.png\n",
      "party_different_negative_english.png\n",
      "party_same_bn_overall_english.png\n",
      "party_same_bn_positive_english.png\n",
      "party_same_bn_negative_english.png\n",
      "party_same_pakatan_overall_english.png\n",
      "party_same_pakatan_positive_english.png\n",
      "party_same_pakatan_negative_english.png\n",
      "leader_same_bn_overall_english.png\n",
      "leader_same_bn_positive_english.png\n",
      "leader_same_bn_negative_english.png\n",
      "leader_same_pakatan_overall_english.png\n",
      "leader_same_pakatan_positive_english.png\n",
      "leader_same_pakatan_negative_english.png\n",
      "leader_different_overall_mix.png\n",
      "leader_different_positive_mix.png\n",
      "leader_different_negative_mix.png\n",
      "party_different_overall_mix.png\n",
      "party_different_positive_mix.png\n",
      "party_different_negative_mix.png\n",
      "party_same_bn_overall_mix.png\n",
      "party_same_bn_positive_mix.png\n",
      "party_same_bn_negative_mix.png\n",
      "party_same_pakatan_overall_mix.png\n",
      "party_same_pakatan_positive_mix.png\n",
      "party_same_pakatan_negative_mix.png\n",
      "leader_same_bn_overall_mix.png\n",
      "leader_same_bn_positive_mix.png\n",
      "leader_same_bn_negative_mix.png\n",
      "leader_same_pakatan_overall_mix.png\n",
      "leader_same_pakatan_positive_mix.png\n",
      "leader_same_pakatan_negative_mix.png\n",
      "leader_different_overall_chinese.png\n",
      "leader_different_positive_chinese.png\n",
      "leader_different_negative_chinese.png\n",
      "party_different_overall_chinese.png\n",
      "party_different_positive_chinese.png\n",
      "party_different_negative_chinese.png\n",
      "party_same_bn_overall_chinese.png\n",
      "party_same_bn_positive_chinese.png\n",
      "party_same_bn_negative_chinese.png\n",
      "party_same_pakatan_overall_chinese.png\n",
      "party_same_pakatan_positive_chinese.png\n",
      "party_same_pakatan_negative_chinese.png\n",
      "leader_same_bn_overall_chinese.png\n",
      "leader_same_bn_positive_chinese.png\n",
      "leader_same_bn_negative_chinese.png\n",
      "leader_same_pakatan_overall_chinese.png\n",
      "leader_same_pakatan_positive_chinese.png\n",
      "leader_same_pakatan_negative_chinese.png\n"
     ]
    }
   ],
   "source": [
    "name_dict = NameMapper.map_name_from_file(\"name_mapping.csv\")\n",
    "plot_helper(\"english\")\n",
    "plot_helper(\"mix\")\n",
    "name_dict = NameMapper.map_name_from_file(\"name_mapping_cn.csv\")\n",
    "plot_helper(\"chinese\")"
   ]
  }
 ],
 "metadata": {
  "kernelspec": {
   "display_name": "Python 3",
   "language": "python",
   "name": "python3"
  },
  "language_info": {
   "codemirror_mode": {
    "name": "ipython",
    "version": 3
   },
   "file_extension": ".py",
   "mimetype": "text/x-python",
   "name": "python",
   "nbconvert_exporter": "python",
   "pygments_lexer": "ipython3",
   "version": "3.6.4"
  }
 },
 "nbformat": 4,
 "nbformat_minor": 2
}
