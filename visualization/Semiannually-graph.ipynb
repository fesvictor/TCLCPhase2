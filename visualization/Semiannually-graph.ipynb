{
 "cells": [
  {
   "cell_type": "code",
   "execution_count": null,
   "metadata": {
    "collapsed": true
   },
   "outputs": [],
   "source": [
    "import os\n",
    "import glob\n",
    "from functools import reduce\n",
    "\n",
    "import pandas as pd\n",
    "import numpy as np\n",
    "import matplotlib.pyplot as plt\n",
    "import matplotlib.patches as mpatches\n",
    "import pathlib\n",
    "\n",
    "import ReadParameterFile\n",
    "import NameMapper"
   ]
  },
  {
   "cell_type": "code",
   "execution_count": null,
   "metadata": {},
   "outputs": [],
   "source": [
    "params = ReadParameterFile.get_parameter_dict(\"semiannually-params\")\n"
   ]
  },
  {
   "cell_type": "code",
   "execution_count": null,
   "metadata": {},
   "outputs": [],
   "source": [
    "params"
   ]
  },
  {
   "cell_type": "code",
   "execution_count": null,
   "metadata": {
    "collapsed": true
   },
   "outputs": [],
   "source": [
    "# Extracted from : https://stackoverflow.com/a/2186555\n",
    "def list_all_files(root_path, ext=\".csv\", front=\"20\"):\n",
    "    cfiles = []\n",
    "    for root, dirs, files in os.walk(root_path):\n",
    "        for file in files:\n",
    "            if file.startswith(front) and file.endswith(ext):\n",
    "                cfiles.append(os.path.join(root, file))\n",
    "    return cfiles"
   ]
  },
  {
   "cell_type": "code",
   "execution_count": null,
   "metadata": {
    "collapsed": true
   },
   "outputs": [],
   "source": [
    "def split_files_by_keyword(files, keyword):\n",
    "    groups = {}\n",
    "    for kw in keyword:\n",
    "        groups[kw] = [f for f in files if kw in f]\n",
    "    return groups\n",
    "            "
   ]
  },
  {
   "cell_type": "code",
   "execution_count": null,
   "metadata": {
    "collapsed": true
   },
   "outputs": [],
   "source": [
    "def filter_files_by_time_range(files, start_year=2017, end_year=2017, start_month=7, end_month=12):\n",
    "    # transform args to int as keepsafe\n",
    "    start_year = int(start_year)\n",
    "    end_year = int(end_year)\n",
    "    start_month = int(start_month)\n",
    "    end_month = int(end_month)\n",
    "    \n",
    "    dates = []\n",
    "    if start_year == end_year:\n",
    "        dates = [str(start_year) + \"_{:02d}\".format(n) for n in range(start_month, end_month + 1)]\n",
    "    return split_files_by_keyword(files, dates)"
   ]
  },
  {
   "cell_type": "code",
   "execution_count": null,
   "metadata": {
    "collapsed": true
   },
   "outputs": [],
   "source": [
    "def flatten_dict(d):\n",
    "    ret = []\n",
    "    for k in d:\n",
    "        ret = ret + d[k]\n",
    "    return ret"
   ]
  },
  {
   "cell_type": "code",
   "execution_count": null,
   "metadata": {},
   "outputs": [],
   "source": [
    "\"\"\"\n",
    "files : array of files\n",
    "\n",
    "overall is default behavior\n",
    "\"\"\"\n",
    "name_dict = NameMapper.map_name_from_file(\"name_mapping.csv\")\n",
    "def aggregate_tables(files, positive=False, negative=False):\n",
    "    global name_dict\n",
    "    ret_dict = {}\n",
    "    for f in files:\n",
    "        df = pd.read_csv(f, sep=',')\n",
    "        # Add all names into dict\n",
    "        for n in set(df['name'].tolist()):\n",
    "            # Do overall \n",
    "            if n in ret_dict or name_dict[n] in ret_dict:\n",
    "                ret_dict[name_dict[n]]['overall'] += df.loc[df['name']==n].as_matrix()[0][2:] + df.loc[df['name']==n].as_matrix()[1][2:]\n",
    "            else:\n",
    "                ret_dict[name_dict[n]] = {'overall': df.loc[df['name']==n].as_matrix()[0][2:] + df.loc[df['name']==n].as_matrix()[1][2:]}\n",
    "            if positive:\n",
    "                if \"positive\" in ret_dict[name_dict[n]]:\n",
    "                    ret_dict[name_dict[n]]['positive'] += df.loc[(df['name']==n) & (df['scale']==1)].as_matrix()[0][2:]\n",
    "                else:\n",
    "                    ret_dict[name_dict[n]]['positive'] = df.loc[(df['name']==n) & (df['scale']==1)].as_matrix()[0][2:]\n",
    "\n",
    "            if negative:\n",
    "                if \"negative\" in ret_dict[name_dict[n]]:\n",
    "                    ret_dict[name_dict[n]]['negative'] += df.loc[(df['name']==n) & (df['scale']==2)].as_matrix()[0][2:]\n",
    "                else:\n",
    "                    ret_dict[name_dict[n]]['negative'] = df.loc[(df['name']==n) & (df['scale']==2)].as_matrix()[0][2:]\n",
    "\n",
    "    return ret_dict\n",
    "                "
   ]
  },
  {
   "cell_type": "code",
   "execution_count": null,
   "metadata": {
    "collapsed": true
   },
   "outputs": [],
   "source": [
    "\"\"\"\n",
    "arr : np.array\n",
    "\n",
    "returns an array of 5 values --> 5 weeks\n",
    "\"\"\"\n",
    "def summarize_values_to_week(arr):\n",
    "    return [arr[0:7].sum(), arr[7:14].sum(), arr[14:21].sum(), arr[21:28].sum(), arr[28:31].sum()]"
   ]
  },
  {
   "cell_type": "code",
   "execution_count": null,
   "metadata": {
    "collapsed": true
   },
   "outputs": [],
   "source": [
    "\"\"\"\n",
    "marr : array of dicts\n",
    "\n",
    "\"\"\"\n",
    "def flatten_map(marr):\n",
    "    ret_dict = []\n",
    "    for key in marr[0]:\n",
    "        new_dict = {key: []}\n",
    "        for d in marr:\n",
    "            new_dict[key] += [d[key]]\n",
    "        ret_dict += [new_dict]\n",
    "    return ret_dict"
   ]
  },
  {
   "cell_type": "code",
   "execution_count": null,
   "metadata": {
    "collapsed": true
   },
   "outputs": [],
   "source": [
    "def flatten_inner_array(x):\n",
    "    for i, n in enumerate(x):\n",
    "        x[i][list(n.keys())[0]] = flatten_map(x[i][list(n.keys())[0]])\n",
    "        for j, n2 in enumerate(x[i][list(n.keys())[0]]):\n",
    "            x[i][list(n.keys())[0]][j][list(n2.keys())[0]] = np.concatenate(n2[list(n2.keys())[0]]).ravel().tolist()\n",
    "    return x"
   ]
  },
  {
   "cell_type": "code",
   "execution_count": null,
   "metadata": {
    "collapsed": true
   },
   "outputs": [],
   "source": [
    "def flatten_array_to_map(marr):\n",
    "    dict_merge = lambda a,b: a.update(b) or a\n",
    "    return reduce((lambda x, y: dict_merge(x, y)), marr)"
   ]
  },
  {
   "cell_type": "code",
   "execution_count": null,
   "metadata": {
    "collapsed": true,
    "scrolled": true
   },
   "outputs": [],
   "source": [
    "prep_data_cache = None\n",
    "def prepare_data_from_source(input_dir, languages, pref_language, candidate, graph_types, filters=None, clear_cache=False):\n",
    "    global prep_data_cache\n",
    "    if clear_cache:\n",
    "        prep_data_cache = None\n",
    "    if not prep_data_cache:\n",
    "        files = list_all_files(input_dir)\n",
    "        g = split_files_by_keyword(files, languages)\n",
    "        d = split_files_by_keyword(g[pref_language], [candidate])\n",
    "        d = filter_files_by_time_range(d[candidate])\n",
    "        tables = [aggregate_tables(d[k], positive=True, negative=True) for k in d]\n",
    "        for _t in tables:\n",
    "            for k in _t:\n",
    "                for types in graph_types:\n",
    "                    _t[k][types] = summarize_values_to_week(_t[k][types])\n",
    "\n",
    "        x = flatten_map(tables)\n",
    "\n",
    "        x_last = flatten_inner_array(x)\n",
    "        xl2 = x_last\n",
    "        xl3 = flatten_array_to_map(xl2)\n",
    "\n",
    "        for n in xl3:\n",
    "            xl3[n] = flatten_array_to_map(xl3[n])\n",
    "\n",
    "        if filters:\n",
    "            filtered_dict = flatten_array_to_map([{n: xl3[n]} for n in filters if n in xl3])\n",
    "        else:\n",
    "            filtered_dict = flatten_array_to_map([xl3])\n",
    "        prep_data_cache = filtered_dict    \n",
    "    else:\n",
    "        if filters:\n",
    "            filtered_dict = flatten_array_to_map([{n: prep_data_cache[n]} for n in filters if n in prep_data_cache])\n",
    "        else:\n",
    "            filtered_dict = flatten_array_to_map([prep_data_cache])\n",
    "    return filtered_dict\n",
    "\n",
    "def clear_prep_data_cache():\n",
    "    global prep_data_cache\n",
    "    prep_data_cache = None"
   ]
  },
  {
   "cell_type": "code",
   "execution_count": null,
   "metadata": {
    "collapsed": true
   },
   "outputs": [],
   "source": [
    "#filtered_dict = prepare_data_from_source(params['input_dir'], params['languages'], 'english', 'leader', params['graph_types'])\n"
   ]
  },
  {
   "cell_type": "code",
   "execution_count": null,
   "metadata": {
    "collapsed": true
   },
   "outputs": [],
   "source": [
    "def plot_semiannual_graph(name, data, category, plot_kind=\"overall\", save=False, show=True):\n",
    "    weeks = [i + 1 for i in range(0, 6 * 5)]\n",
    "    dpi = 96\n",
    "    plt.figure(figsize=(1366/dpi,768/dpi), dpi=dpi)\n",
    "    plt.gca().set_color_cycle(['green', 'red', 'blue', 'purple', 'yellow', 'gray', 'orange', 'magenta'])\n",
    "    \n",
    "    plt.xlabel(\"Week\")\n",
    "    plt.ylabel(\"Polarity\")\n",
    "    plt.xticks(weeks, [\"W\" + str((i % 5)) if i % 5 == 1 else str((i % 5 + 1)) for i in weeks])\n",
    "    \n",
    "    graph_title = name + \" \" + plot_kind\n",
    "    \n",
    "    plt.suptitle(graph_title, fontsize=20)\n",
    "    print(len(list(data.keys())))\n",
    "    for n in data:\n",
    "        plt.plot(weeks, data[n][plot_kind], label=n)\n",
    "        \n",
    "    plt.legend()\n",
    "    \n",
    "    if save:\n",
    "        root_dir = params['output_dir']\n",
    "        graph_dir = \"semiannual_plot\"\n",
    "        current_run_dir = params['start_year'] + \"-\" + params['start_month'] + \"__\" + params['end_year'] + \"-\" + params['end_month']\n",
    "        endpath = os.path.join(root_dir, graph_dir, current_run_dir, category)\n",
    "        \n",
    "        pathlib.Path(endpath).mkdir(parents=True, exist_ok=True)\n",
    "        plt.savefig(os.path.join(endpath, category + \"_\" + plot_kind + \".png\"), dpi=dpi)\n",
    "        \n",
    "    if show:\n",
    "        plt.show()\n",
    "    \n",
    "    plt.clf()\n",
    "    "
   ]
  },
  {
   "cell_type": "code",
   "execution_count": null,
   "metadata": {
    "collapsed": true
   },
   "outputs": [],
   "source": [
    "def english_plot():\n",
    "    filtered_dict = prepare_data_from_source(params['input_dir'], params['languages'], 'english', 'leader', params['graph_types'], params['leader_different'], clear_cache=True)\n",
    "    plot_semiannual_graph(\"Different coalition leader\", filtered_dict, \"leader_different\", save=True, show=False)\n",
    "    plot_semiannual_graph(\"Different coalition leader\", filtered_dict, \"leader_different\", plot_kind=\"positive\", save=True, show=False)\n",
    "    plot_semiannual_graph(\"Different coalition leader\", filtered_dict, \"leader_different\", plot_kind=\"negative\", save=True, show=False)\n",
    "\n",
    "    filtered_dict = prepare_data_from_source(params['input_dir'], params['languages'], 'english', 'party', params['graph_types'], params['party_different'], clear_cache=True)\n",
    "    plot_semiannual_graph(\"Different coalition party\", filtered_dict, \"party_different\", save=True, show=False)\n",
    "    plot_semiannual_graph(\"Different coalition party\", filtered_dict, \"party_different\", plot_kind=\"positive\", save=True, show=False)\n",
    "    plot_semiannual_graph(\"Different coalition party\", filtered_dict, \"party_different\", plot_kind=\"negative\", save=True, show=False)"
   ]
  },
  {
   "cell_type": "code",
   "execution_count": null,
   "metadata": {
    "scrolled": false
   },
   "outputs": [],
   "source": [
    "filtered_dict = prepare_data_from_source(params['input_dir'], params['languages'], 'english', 'leader', params['graph_types'], params['leader_different'], clear_cache=True)\n",
    "plot_semiannual_graph(\"Different coalition leader\", filtered_dict, \"leader_different\", save=True, show=False)\n",
    "plot_semiannual_graph(\"Different coalition leader\", filtered_dict, \"leader_different\", plot_kind=\"positive\", save=True, show=False)\n",
    "plot_semiannual_graph(\"Different coalition leader\", filtered_dict, \"leader_different\", plot_kind=\"negative\", save=True, show=False)"
   ]
  },
  {
   "cell_type": "code",
   "execution_count": null,
   "metadata": {
    "scrolled": false
   },
   "outputs": [],
   "source": [
    "filtered_dict = prepare_data_from_source(params['input_dir'], params['languages'], 'english', 'party', params['graph_types'], params['party_different'], clear_cache=True)\n",
    "plot_semiannual_graph(\"Different coalition party\", filtered_dict, \"party_different\", save=True, show=False)\n",
    "plot_semiannual_graph(\"Different coalition party\", filtered_dict, \"party_different\", plot_kind=\"positive\", save=True, show=False)\n",
    "plot_semiannual_graph(\"Different coalition party\", filtered_dict, \"party_different\", plot_kind=\"negative\", save=True, show=False)"
   ]
  },
  {
   "cell_type": "code",
   "execution_count": null,
   "metadata": {},
   "outputs": [],
   "source": [
    "cat_type = \"party_same_bn\"\n",
    "filtered_dict = prepare_data_from_source(params['input_dir'], params['languages'], 'english', 'party', params['graph_types'], params[cat_type], clear_cache=True)\n",
    "plot_semiannual_graph(\"BN party coalition\", filtered_dict, cat_type, save=True, show=False)\n",
    "plot_semiannual_graph(\"BN party coalition\", filtered_dict, cat_type, plot_kind=\"positive\", save=True, show=False)\n",
    "plot_semiannual_graph(\"BN party coalition\", filtered_dict, cat_type, plot_kind=\"negative\", save=True, show=False)"
   ]
  },
  {
   "cell_type": "code",
   "execution_count": null,
   "metadata": {},
   "outputs": [],
   "source": [
    "cat_type = \"party_same_pakatan\"\n",
    "filtered_dict = prepare_data_from_source(params['input_dir'], params['languages'], 'english', 'party', params['graph_types'], params[cat_type], clear_cache=True)\n",
    "plot_semiannual_graph(\"Pakatan party coalition\", filtered_dict, cat_type, save=True, show=False)\n",
    "plot_semiannual_graph(\"Pakatan party coalition\", filtered_dict, cat_type, plot_kind=\"positive\", save=True, show=False)\n",
    "plot_semiannual_graph(\"Pakatan party coalition\", filtered_dict, cat_type, plot_kind=\"negative\", save=True, show=False)"
   ]
  },
  {
   "cell_type": "code",
   "execution_count": null,
   "metadata": {},
   "outputs": [],
   "source": [
    "cat_type = \"leader_same_bn\"\n",
    "filtered_dict = prepare_data_from_source(params['input_dir'], params['languages'], 'english', 'leader', params['graph_types'], params[cat_type], clear_cache=True)\n",
    "plot_semiannual_graph(\"BN leaders coalition\", filtered_dict, cat_type, save=True, show=False)\n",
    "plot_semiannual_graph(\"BN leaders coalition\", filtered_dict, cat_type, plot_kind=\"positive\", save=True, show=False)\n",
    "plot_semiannual_graph(\"BN leaders coalition\", filtered_dict, cat_type, plot_kind=\"negative\", save=True, show=False)"
   ]
  },
  {
   "cell_type": "code",
   "execution_count": null,
   "metadata": {},
   "outputs": [],
   "source": [
    "cat_type = \"leader_same_pakatan\"\n",
    "filtered_dict = prepare_data_from_source(params['input_dir'], params['languages'], 'english', 'leader', params['graph_types'], params[cat_type], clear_cache=True)\n",
    "plot_semiannual_graph(\"Pakatan leaders coalition\", filtered_dict, cat_type, save=True, show=False)\n",
    "plot_semiannual_graph(\"Pakatan leaders coalition\", filtered_dict, cat_type, plot_kind=\"positive\", save=True, show=False)\n",
    "plot_semiannual_graph(\"Pakatan leaders coalition\", filtered_dict, cat_type, plot_kind=\"negative\", save=True, show=False)"
   ]
  },
  {
   "cell_type": "code",
   "execution_count": null,
   "metadata": {
    "collapsed": true
   },
   "outputs": [],
   "source": [
    "cat_type = \"leader_same_pakatan\"\n",
    "filtered_dict = prepare_data_from_source(params['input_dir'], params['languages'], 'chinese', 'leader', params['graph_types'], params[cat_type], clear_cache=True)\n",
    "plot_semiannual_graph(\"Pakatan leaders coalition\", filtered_dict, cat_type, save=True, show=False)\n",
    "plot_semiannual_graph(\"Pakatan leaders coalition\", filtered_dict, cat_type, plot_kind=\"positive\", save=True, show=False)\n",
    "plot_semiannual_graph(\"Pakatan leaders coalition\", filtered_dict, cat_type, plot_kind=\"negative\", save=True, show=False)"
   ]
  }
 ],
 "metadata": {
  "kernelspec": {
   "display_name": "Python 3",
   "language": "python",
   "name": "python3"
  },
  "language_info": {
   "codemirror_mode": {
    "name": "ipython",
    "version": 3
   },
   "file_extension": ".py",
   "mimetype": "text/x-python",
   "name": "python",
   "nbconvert_exporter": "python",
   "pygments_lexer": "ipython3",
   "version": "3.6.4"
  }
 },
 "nbformat": 4,
 "nbformat_minor": 2
}
